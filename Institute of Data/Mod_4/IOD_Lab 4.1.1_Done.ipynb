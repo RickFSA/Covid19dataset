{
 "cells": [
  {
   "cell_type": "markdown",
   "metadata": {
    "colab_type": "text",
    "id": "jZSSKjAWXd3j"
   },
   "source": [
    "<div>\n",
    "<img src=https://www.institutedata.com/wp-content/uploads/2019/10/iod_h_tp_primary_c.svg width=\"300\">\n",
    "</div>"
   ]
  },
  {
   "cell_type": "markdown",
   "metadata": {
    "colab_type": "text",
    "id": "2Ms9riXMXd3k"
   },
   "source": [
    "# Lab 4.1.1 Linear Regression"
   ]
  },
  {
   "cell_type": "markdown",
   "metadata": {
    "colab_type": "text",
    "id": "twocr7v8Xd3l"
   },
   "source": [
    "## Prediction of House Price Using Linear Regression"
   ]
  },
  {
   "cell_type": "markdown",
   "metadata": {
    "colab_type": "text",
    "id": "0j3ZiTCPXd3m"
   },
   "source": [
    "### Data\n",
    "\n",
    "The Sacramento real estate transactions file is a list of 985 real estate transactions in the Sacramento area reported over a five-day period, as reported by the Sacramento Bee."
   ]
  },
  {
   "cell_type": "code",
   "execution_count": 1,
   "metadata": {
    "colab": {},
    "colab_type": "code",
    "id": "hejYh49cXd3n"
   },
   "outputs": [],
   "source": [
    "import pandas as pd\n",
    "import numpy as np\n",
    "import pandas as pd\n",
    "\n",
    "%matplotlib inline"
   ]
  },
  {
   "cell_type": "markdown",
   "metadata": {
    "colab_type": "text",
    "id": "BlumKNPDXd3q"
   },
   "source": [
    "### 1. Explore Data"
   ]
  },
  {
   "cell_type": "markdown",
   "metadata": {
    "colab_type": "text",
    "id": "h1FUHCAnXd3r"
   },
   "source": [
    "Perform EDA on this dataset. Use what you have learned so far. Be creative. List all your findings."
   ]
  },
  {
   "cell_type": "code",
   "execution_count": 2,
   "metadata": {
    "colab": {},
    "colab_type": "code",
    "id": "C8BX-oTKXd3s"
   },
   "outputs": [],
   "source": [
    "# Read CSV\n",
    "house = pd.read_csv(\"Sacramento_transactions.csv\")"
   ]
  },
  {
   "cell_type": "code",
   "execution_count": 3,
   "metadata": {},
   "outputs": [
    {
     "name": "stdout",
     "output_type": "stream",
     "text": [
      "<class 'pandas.core.frame.DataFrame'>\n",
      "RangeIndex: 985 entries, 0 to 984\n",
      "Data columns (total 12 columns):\n",
      " #   Column     Non-Null Count  Dtype  \n",
      "---  ------     --------------  -----  \n",
      " 0   street     985 non-null    object \n",
      " 1   city       985 non-null    object \n",
      " 2   zip        985 non-null    int64  \n",
      " 3   state      985 non-null    object \n",
      " 4   beds       985 non-null    int64  \n",
      " 5   baths      985 non-null    int64  \n",
      " 6   sq__ft     985 non-null    int64  \n",
      " 7   type       985 non-null    object \n",
      " 8   sale_date  985 non-null    object \n",
      " 9   price      985 non-null    int64  \n",
      " 10  latitude   985 non-null    float64\n",
      " 11  longitude  985 non-null    float64\n",
      "dtypes: float64(2), int64(5), object(5)\n",
      "memory usage: 92.5+ KB\n"
     ]
    }
   ],
   "source": [
    "house.info()"
   ]
  },
  {
   "cell_type": "code",
   "execution_count": 44,
   "metadata": {
    "scrolled": true
   },
   "outputs": [
    {
     "data": {
      "text/html": [
       "<div>\n",
       "<style scoped>\n",
       "    .dataframe tbody tr th:only-of-type {\n",
       "        vertical-align: middle;\n",
       "    }\n",
       "\n",
       "    .dataframe tbody tr th {\n",
       "        vertical-align: top;\n",
       "    }\n",
       "\n",
       "    .dataframe thead th {\n",
       "        text-align: right;\n",
       "    }\n",
       "</style>\n",
       "<table border=\"1\" class=\"dataframe\">\n",
       "  <thead>\n",
       "    <tr style=\"text-align: right;\">\n",
       "      <th></th>\n",
       "      <th>street</th>\n",
       "      <th>city</th>\n",
       "      <th>zip</th>\n",
       "      <th>state</th>\n",
       "      <th>beds</th>\n",
       "      <th>baths</th>\n",
       "      <th>sq__ft</th>\n",
       "      <th>type</th>\n",
       "      <th>sale_date</th>\n",
       "      <th>price</th>\n",
       "      <th>latitude</th>\n",
       "      <th>longitude</th>\n",
       "    </tr>\n",
       "  </thead>\n",
       "  <tbody>\n",
       "    <tr>\n",
       "      <th>0</th>\n",
       "      <td>3526 HIGH ST</td>\n",
       "      <td>SACRAMENTO</td>\n",
       "      <td>95838</td>\n",
       "      <td>CA</td>\n",
       "      <td>2</td>\n",
       "      <td>1</td>\n",
       "      <td>836</td>\n",
       "      <td>Residential</td>\n",
       "      <td>Wed May 21 00:00:00 EDT 2008</td>\n",
       "      <td>59222</td>\n",
       "      <td>38.631913</td>\n",
       "      <td>-121.434879</td>\n",
       "    </tr>\n",
       "    <tr>\n",
       "      <th>1</th>\n",
       "      <td>51 OMAHA CT</td>\n",
       "      <td>SACRAMENTO</td>\n",
       "      <td>95823</td>\n",
       "      <td>CA</td>\n",
       "      <td>3</td>\n",
       "      <td>1</td>\n",
       "      <td>1167</td>\n",
       "      <td>Residential</td>\n",
       "      <td>Wed May 21 00:00:00 EDT 2008</td>\n",
       "      <td>68212</td>\n",
       "      <td>38.478902</td>\n",
       "      <td>-121.431028</td>\n",
       "    </tr>\n",
       "    <tr>\n",
       "      <th>2</th>\n",
       "      <td>2796 BRANCH ST</td>\n",
       "      <td>SACRAMENTO</td>\n",
       "      <td>95815</td>\n",
       "      <td>CA</td>\n",
       "      <td>2</td>\n",
       "      <td>1</td>\n",
       "      <td>796</td>\n",
       "      <td>Residential</td>\n",
       "      <td>Wed May 21 00:00:00 EDT 2008</td>\n",
       "      <td>68880</td>\n",
       "      <td>38.618305</td>\n",
       "      <td>-121.443839</td>\n",
       "    </tr>\n",
       "    <tr>\n",
       "      <th>3</th>\n",
       "      <td>2805 JANETTE WAY</td>\n",
       "      <td>SACRAMENTO</td>\n",
       "      <td>95815</td>\n",
       "      <td>CA</td>\n",
       "      <td>2</td>\n",
       "      <td>1</td>\n",
       "      <td>852</td>\n",
       "      <td>Residential</td>\n",
       "      <td>Wed May 21 00:00:00 EDT 2008</td>\n",
       "      <td>69307</td>\n",
       "      <td>38.616835</td>\n",
       "      <td>-121.439146</td>\n",
       "    </tr>\n",
       "    <tr>\n",
       "      <th>4</th>\n",
       "      <td>6001 MCMAHON DR</td>\n",
       "      <td>SACRAMENTO</td>\n",
       "      <td>95824</td>\n",
       "      <td>CA</td>\n",
       "      <td>2</td>\n",
       "      <td>1</td>\n",
       "      <td>797</td>\n",
       "      <td>Residential</td>\n",
       "      <td>Wed May 21 00:00:00 EDT 2008</td>\n",
       "      <td>81900</td>\n",
       "      <td>38.519470</td>\n",
       "      <td>-121.435768</td>\n",
       "    </tr>\n",
       "  </tbody>\n",
       "</table>\n",
       "</div>"
      ],
      "text/plain": [
       "             street        city    zip state  beds  baths  sq__ft  \\\n",
       "0      3526 HIGH ST  SACRAMENTO  95838    CA     2      1     836   \n",
       "1       51 OMAHA CT  SACRAMENTO  95823    CA     3      1    1167   \n",
       "2    2796 BRANCH ST  SACRAMENTO  95815    CA     2      1     796   \n",
       "3  2805 JANETTE WAY  SACRAMENTO  95815    CA     2      1     852   \n",
       "4   6001 MCMAHON DR  SACRAMENTO  95824    CA     2      1     797   \n",
       "\n",
       "          type                     sale_date  price   latitude   longitude  \n",
       "0  Residential  Wed May 21 00:00:00 EDT 2008  59222  38.631913 -121.434879  \n",
       "1  Residential  Wed May 21 00:00:00 EDT 2008  68212  38.478902 -121.431028  \n",
       "2  Residential  Wed May 21 00:00:00 EDT 2008  68880  38.618305 -121.443839  \n",
       "3  Residential  Wed May 21 00:00:00 EDT 2008  69307  38.616835 -121.439146  \n",
       "4  Residential  Wed May 21 00:00:00 EDT 2008  81900  38.519470 -121.435768  "
      ]
     },
     "execution_count": 44,
     "metadata": {},
     "output_type": "execute_result"
    }
   ],
   "source": [
    "house.head()"
   ]
  },
  {
   "cell_type": "code",
   "execution_count": 20,
   "metadata": {
    "scrolled": true
   },
   "outputs": [
    {
     "data": {
      "text/html": [
       "<div>\n",
       "<style scoped>\n",
       "    .dataframe tbody tr th:only-of-type {\n",
       "        vertical-align: middle;\n",
       "    }\n",
       "\n",
       "    .dataframe tbody tr th {\n",
       "        vertical-align: top;\n",
       "    }\n",
       "\n",
       "    .dataframe thead th {\n",
       "        text-align: right;\n",
       "    }\n",
       "</style>\n",
       "<table border=\"1\" class=\"dataframe\">\n",
       "  <thead>\n",
       "    <tr style=\"text-align: right;\">\n",
       "      <th></th>\n",
       "      <th>street</th>\n",
       "      <th>city</th>\n",
       "      <th>zip</th>\n",
       "      <th>state</th>\n",
       "      <th>beds</th>\n",
       "      <th>baths</th>\n",
       "      <th>sq__ft</th>\n",
       "      <th>type</th>\n",
       "      <th>sale_date</th>\n",
       "      <th>price</th>\n",
       "      <th>latitude</th>\n",
       "      <th>longitude</th>\n",
       "    </tr>\n",
       "  </thead>\n",
       "  <tbody>\n",
       "    <tr>\n",
       "      <th>341</th>\n",
       "      <td>4734 14TH AVE</td>\n",
       "      <td>SACRAMENTO</td>\n",
       "      <td>95820</td>\n",
       "      <td>CA</td>\n",
       "      <td>2</td>\n",
       "      <td>1</td>\n",
       "      <td>834</td>\n",
       "      <td>Residential</td>\n",
       "      <td>Mon May 19 00:00:00 EDT 2008</td>\n",
       "      <td>68000</td>\n",
       "      <td>38.539447</td>\n",
       "      <td>-121.450858</td>\n",
       "    </tr>\n",
       "    <tr>\n",
       "      <th>342</th>\n",
       "      <td>4734 14TH AVE</td>\n",
       "      <td>SACRAMENTO</td>\n",
       "      <td>95820</td>\n",
       "      <td>CA</td>\n",
       "      <td>2</td>\n",
       "      <td>1</td>\n",
       "      <td>834</td>\n",
       "      <td>Residential</td>\n",
       "      <td>Mon May 19 00:00:00 EDT 2008</td>\n",
       "      <td>68000</td>\n",
       "      <td>38.539447</td>\n",
       "      <td>-121.450858</td>\n",
       "    </tr>\n",
       "    <tr>\n",
       "      <th>393</th>\n",
       "      <td>1223 LAMBERTON CIR</td>\n",
       "      <td>SACRAMENTO</td>\n",
       "      <td>95838</td>\n",
       "      <td>CA</td>\n",
       "      <td>3</td>\n",
       "      <td>2</td>\n",
       "      <td>1370</td>\n",
       "      <td>Residential</td>\n",
       "      <td>Mon May 19 00:00:00 EDT 2008</td>\n",
       "      <td>155435</td>\n",
       "      <td>38.646677</td>\n",
       "      <td>-121.437573</td>\n",
       "    </tr>\n",
       "    <tr>\n",
       "      <th>394</th>\n",
       "      <td>1223 LAMBERTON CIR</td>\n",
       "      <td>SACRAMENTO</td>\n",
       "      <td>95838</td>\n",
       "      <td>CA</td>\n",
       "      <td>3</td>\n",
       "      <td>2</td>\n",
       "      <td>1370</td>\n",
       "      <td>Residential</td>\n",
       "      <td>Mon May 19 00:00:00 EDT 2008</td>\n",
       "      <td>155500</td>\n",
       "      <td>38.646677</td>\n",
       "      <td>-121.437573</td>\n",
       "    </tr>\n",
       "    <tr>\n",
       "      <th>403</th>\n",
       "      <td>8306 CURLEW CT</td>\n",
       "      <td>CITRUS HEIGHTS</td>\n",
       "      <td>95621</td>\n",
       "      <td>CA</td>\n",
       "      <td>4</td>\n",
       "      <td>2</td>\n",
       "      <td>1280</td>\n",
       "      <td>Residential</td>\n",
       "      <td>Mon May 19 00:00:00 EDT 2008</td>\n",
       "      <td>167293</td>\n",
       "      <td>38.715781</td>\n",
       "      <td>-121.298519</td>\n",
       "    </tr>\n",
       "    <tr>\n",
       "      <th>404</th>\n",
       "      <td>8306 CURLEW CT</td>\n",
       "      <td>CITRUS HEIGHTS</td>\n",
       "      <td>95621</td>\n",
       "      <td>CA</td>\n",
       "      <td>4</td>\n",
       "      <td>2</td>\n",
       "      <td>1280</td>\n",
       "      <td>Residential</td>\n",
       "      <td>Mon May 19 00:00:00 EDT 2008</td>\n",
       "      <td>167293</td>\n",
       "      <td>38.715781</td>\n",
       "      <td>-121.298519</td>\n",
       "    </tr>\n",
       "    <tr>\n",
       "      <th>600</th>\n",
       "      <td>7 CRYSTALWOOD CIR</td>\n",
       "      <td>LINCOLN</td>\n",
       "      <td>95648</td>\n",
       "      <td>CA</td>\n",
       "      <td>0</td>\n",
       "      <td>0</td>\n",
       "      <td>0</td>\n",
       "      <td>Residential</td>\n",
       "      <td>Mon May 19 00:00:00 EDT 2008</td>\n",
       "      <td>4897</td>\n",
       "      <td>38.885962</td>\n",
       "      <td>-121.289436</td>\n",
       "    </tr>\n",
       "    <tr>\n",
       "      <th>601</th>\n",
       "      <td>7 CRYSTALWOOD CIR</td>\n",
       "      <td>LINCOLN</td>\n",
       "      <td>95648</td>\n",
       "      <td>CA</td>\n",
       "      <td>0</td>\n",
       "      <td>0</td>\n",
       "      <td>0</td>\n",
       "      <td>Residential</td>\n",
       "      <td>Mon May 19 00:00:00 EDT 2008</td>\n",
       "      <td>4897</td>\n",
       "      <td>38.885962</td>\n",
       "      <td>-121.289436</td>\n",
       "    </tr>\n",
       "  </tbody>\n",
       "</table>\n",
       "</div>"
      ],
      "text/plain": [
       "                 street            city    zip state  beds  baths  sq__ft  \\\n",
       "341       4734 14TH AVE      SACRAMENTO  95820    CA     2      1     834   \n",
       "342       4734 14TH AVE      SACRAMENTO  95820    CA     2      1     834   \n",
       "393  1223 LAMBERTON CIR      SACRAMENTO  95838    CA     3      2    1370   \n",
       "394  1223 LAMBERTON CIR      SACRAMENTO  95838    CA     3      2    1370   \n",
       "403      8306 CURLEW CT  CITRUS HEIGHTS  95621    CA     4      2    1280   \n",
       "404      8306 CURLEW CT  CITRUS HEIGHTS  95621    CA     4      2    1280   \n",
       "600   7 CRYSTALWOOD CIR         LINCOLN  95648    CA     0      0       0   \n",
       "601   7 CRYSTALWOOD CIR         LINCOLN  95648    CA     0      0       0   \n",
       "\n",
       "            type                     sale_date   price   latitude   longitude  \n",
       "341  Residential  Mon May 19 00:00:00 EDT 2008   68000  38.539447 -121.450858  \n",
       "342  Residential  Mon May 19 00:00:00 EDT 2008   68000  38.539447 -121.450858  \n",
       "393  Residential  Mon May 19 00:00:00 EDT 2008  155435  38.646677 -121.437573  \n",
       "394  Residential  Mon May 19 00:00:00 EDT 2008  155500  38.646677 -121.437573  \n",
       "403  Residential  Mon May 19 00:00:00 EDT 2008  167293  38.715781 -121.298519  \n",
       "404  Residential  Mon May 19 00:00:00 EDT 2008  167293  38.715781 -121.298519  \n",
       "600  Residential  Mon May 19 00:00:00 EDT 2008    4897  38.885962 -121.289436  \n",
       "601  Residential  Mon May 19 00:00:00 EDT 2008    4897  38.885962 -121.289436  "
      ]
     },
     "execution_count": 20,
     "metadata": {},
     "output_type": "execute_result"
    }
   ],
   "source": [
    "# Identify duplicated values\n",
    "dup = house.duplicated(subset=['street', 'city', 'zip', 'state'], keep=False)\n",
    "house[dup]"
   ]
  },
  {
   "cell_type": "code",
   "execution_count": 38,
   "metadata": {},
   "outputs": [
    {
     "data": {
      "text/plain": [
       "(170, 12)"
      ]
     },
     "execution_count": 38,
     "metadata": {},
     "output_type": "execute_result"
    }
   ],
   "source": [
    "# Drop duplicated values \n",
    "house.drop_duplicates(inplace=True)\n",
    "error = house[house.sq__ft == 0]\n",
    "error.shape"
   ]
  },
  {
   "cell_type": "code",
   "execution_count": 47,
   "metadata": {},
   "outputs": [
    {
     "name": "stdout",
     "output_type": "stream",
     "text": [
      "(982, 12) (812, 12)\n"
     ]
    }
   ],
   "source": [
    "# Drop 0 value in sq__ft features, because a house cant have 0 sqft\n",
    "df = house[house.sq__ft != 0]\n",
    "print(house.shape, df.shape)"
   ]
  },
  {
   "cell_type": "code",
   "execution_count": 53,
   "metadata": {},
   "outputs": [
    {
     "data": {
      "text/html": [
       "<div>\n",
       "<style scoped>\n",
       "    .dataframe tbody tr th:only-of-type {\n",
       "        vertical-align: middle;\n",
       "    }\n",
       "\n",
       "    .dataframe tbody tr th {\n",
       "        vertical-align: top;\n",
       "    }\n",
       "\n",
       "    .dataframe thead th {\n",
       "        text-align: right;\n",
       "    }\n",
       "</style>\n",
       "<table border=\"1\" class=\"dataframe\">\n",
       "  <thead>\n",
       "    <tr style=\"text-align: right;\">\n",
       "      <th></th>\n",
       "      <th>street</th>\n",
       "      <th>city</th>\n",
       "      <th>zip</th>\n",
       "      <th>state</th>\n",
       "      <th>beds</th>\n",
       "      <th>baths</th>\n",
       "      <th>sq__ft</th>\n",
       "      <th>type</th>\n",
       "      <th>sale_date</th>\n",
       "      <th>price</th>\n",
       "      <th>latitude</th>\n",
       "      <th>longitude</th>\n",
       "    </tr>\n",
       "  </thead>\n",
       "  <tbody>\n",
       "    <tr>\n",
       "      <th>0</th>\n",
       "      <td>3526 HIGH ST</td>\n",
       "      <td>SACRAMENTO</td>\n",
       "      <td>95838</td>\n",
       "      <td>CA</td>\n",
       "      <td>2</td>\n",
       "      <td>1</td>\n",
       "      <td>836</td>\n",
       "      <td>Residential</td>\n",
       "      <td>Wed May 21 00:00:00 EDT 2008</td>\n",
       "      <td>59222</td>\n",
       "      <td>38.631913</td>\n",
       "      <td>-121.434879</td>\n",
       "    </tr>\n",
       "    <tr>\n",
       "      <th>1</th>\n",
       "      <td>51 OMAHA CT</td>\n",
       "      <td>SACRAMENTO</td>\n",
       "      <td>95823</td>\n",
       "      <td>CA</td>\n",
       "      <td>3</td>\n",
       "      <td>1</td>\n",
       "      <td>1167</td>\n",
       "      <td>Residential</td>\n",
       "      <td>Wed May 21 00:00:00 EDT 2008</td>\n",
       "      <td>68212</td>\n",
       "      <td>38.478902</td>\n",
       "      <td>-121.431028</td>\n",
       "    </tr>\n",
       "    <tr>\n",
       "      <th>2</th>\n",
       "      <td>2796 BRANCH ST</td>\n",
       "      <td>SACRAMENTO</td>\n",
       "      <td>95815</td>\n",
       "      <td>CA</td>\n",
       "      <td>2</td>\n",
       "      <td>1</td>\n",
       "      <td>796</td>\n",
       "      <td>Residential</td>\n",
       "      <td>Wed May 21 00:00:00 EDT 2008</td>\n",
       "      <td>68880</td>\n",
       "      <td>38.618305</td>\n",
       "      <td>-121.443839</td>\n",
       "    </tr>\n",
       "    <tr>\n",
       "      <th>3</th>\n",
       "      <td>2805 JANETTE WAY</td>\n",
       "      <td>SACRAMENTO</td>\n",
       "      <td>95815</td>\n",
       "      <td>CA</td>\n",
       "      <td>2</td>\n",
       "      <td>1</td>\n",
       "      <td>852</td>\n",
       "      <td>Residential</td>\n",
       "      <td>Wed May 21 00:00:00 EDT 2008</td>\n",
       "      <td>69307</td>\n",
       "      <td>38.616835</td>\n",
       "      <td>-121.439146</td>\n",
       "    </tr>\n",
       "    <tr>\n",
       "      <th>4</th>\n",
       "      <td>6001 MCMAHON DR</td>\n",
       "      <td>SACRAMENTO</td>\n",
       "      <td>95824</td>\n",
       "      <td>CA</td>\n",
       "      <td>2</td>\n",
       "      <td>1</td>\n",
       "      <td>797</td>\n",
       "      <td>Residential</td>\n",
       "      <td>Wed May 21 00:00:00 EDT 2008</td>\n",
       "      <td>81900</td>\n",
       "      <td>38.519470</td>\n",
       "      <td>-121.435768</td>\n",
       "    </tr>\n",
       "  </tbody>\n",
       "</table>\n",
       "</div>"
      ],
      "text/plain": [
       "             street        city    zip state  beds  baths  sq__ft  \\\n",
       "0      3526 HIGH ST  SACRAMENTO  95838    CA     2      1     836   \n",
       "1       51 OMAHA CT  SACRAMENTO  95823    CA     3      1    1167   \n",
       "2    2796 BRANCH ST  SACRAMENTO  95815    CA     2      1     796   \n",
       "3  2805 JANETTE WAY  SACRAMENTO  95815    CA     2      1     852   \n",
       "4   6001 MCMAHON DR  SACRAMENTO  95824    CA     2      1     797   \n",
       "\n",
       "          type                     sale_date  price   latitude   longitude  \n",
       "0  Residential  Wed May 21 00:00:00 EDT 2008  59222  38.631913 -121.434879  \n",
       "1  Residential  Wed May 21 00:00:00 EDT 2008  68212  38.478902 -121.431028  \n",
       "2  Residential  Wed May 21 00:00:00 EDT 2008  68880  38.618305 -121.443839  \n",
       "3  Residential  Wed May 21 00:00:00 EDT 2008  69307  38.616835 -121.439146  \n",
       "4  Residential  Wed May 21 00:00:00 EDT 2008  81900  38.519470 -121.435768  "
      ]
     },
     "execution_count": 53,
     "metadata": {},
     "output_type": "execute_result"
    }
   ],
   "source": [
    "df.reset_index()\n",
    "df.head()"
   ]
  },
  {
   "cell_type": "markdown",
   "metadata": {
    "colab_type": "text",
    "id": "sIztKXN7Xd3u"
   },
   "source": [
    "### 2. Predict Price"
   ]
  },
  {
   "cell_type": "markdown",
   "metadata": {
    "colab_type": "text",
    "id": "hzXJOP2_Xd3v"
   },
   "source": [
    "We are going to predict `price` from available information."
   ]
  },
  {
   "cell_type": "markdown",
   "metadata": {
    "colab_type": "text",
    "id": "1CMJdXc3Xd3w"
   },
   "source": [
    "#### 2.1 What is the Target Variable? Why?"
   ]
  },
  {
   "cell_type": "code",
   "execution_count": 54,
   "metadata": {
    "colab": {},
    "colab_type": "code",
    "id": "56yN89q2Xd3w"
   },
   "outputs": [
    {
     "name": "stdout",
     "output_type": "stream",
     "text": [
      "[59222 68212 68880 69307 81900]\n"
     ]
    }
   ],
   "source": [
    "# Target variable is the price. Because we want to know the values of this variable. In other words, we want to predict the\n",
    "# values of price, given some known factors. \n",
    "\n",
    "target = df['price'].values\n",
    "print(target[:5])"
   ]
  },
  {
   "cell_type": "markdown",
   "metadata": {
    "colab_type": "text",
    "id": "7qy-ZmGEXd3z"
   },
   "source": [
    "#### 2.2 List all possible variables which might be Predictor variable."
   ]
  },
  {
   "cell_type": "code",
   "execution_count": 55,
   "metadata": {
    "colab": {},
    "colab_type": "code",
    "id": "nfAq28P_Xd30"
   },
   "outputs": [
    {
     "name": "stdout",
     "output_type": "stream",
     "text": [
      "Index(['street', 'city', 'zip', 'state', 'beds', 'baths', 'sq__ft', 'type',\n",
      "       'sale_date', 'latitude', 'longitude'],\n",
      "      dtype='object')\n"
     ]
    }
   ],
   "source": [
    "# All other features (excluded price features) can be Independent/Predictor variable\n",
    "\n",
    "feature = house.drop('price', axis=1)\n",
    "print(feature.columns)"
   ]
  },
  {
   "cell_type": "markdown",
   "metadata": {
    "colab_type": "text",
    "id": "yFZkIpXhXd32"
   },
   "source": [
    "#### 2.2 Find correlation between variables\n",
    "\n",
    "Find correlation between variables. Which is the best predictor? Why? State your reason."
   ]
  },
  {
   "cell_type": "code",
   "execution_count": 58,
   "metadata": {
    "colab": {},
    "colab_type": "code",
    "id": "Nc8FHVnjXd32"
   },
   "outputs": [
    {
     "data": {
      "text/html": [
       "<div>\n",
       "<style scoped>\n",
       "    .dataframe tbody tr th:only-of-type {\n",
       "        vertical-align: middle;\n",
       "    }\n",
       "\n",
       "    .dataframe tbody tr th {\n",
       "        vertical-align: top;\n",
       "    }\n",
       "\n",
       "    .dataframe thead th {\n",
       "        text-align: right;\n",
       "    }\n",
       "</style>\n",
       "<table border=\"1\" class=\"dataframe\">\n",
       "  <thead>\n",
       "    <tr style=\"text-align: right;\">\n",
       "      <th></th>\n",
       "      <th>feature1</th>\n",
       "      <th>feature2</th>\n",
       "      <th>Correlation</th>\n",
       "    </tr>\n",
       "  </thead>\n",
       "  <tbody>\n",
       "    <tr>\n",
       "      <th>4</th>\n",
       "      <td>price</td>\n",
       "      <td>price</td>\n",
       "      <td>1.000000</td>\n",
       "    </tr>\n",
       "    <tr>\n",
       "      <th>11</th>\n",
       "      <td>price</td>\n",
       "      <td>sq__ft</td>\n",
       "      <td>0.693054</td>\n",
       "    </tr>\n",
       "    <tr>\n",
       "      <th>17</th>\n",
       "      <td>price</td>\n",
       "      <td>baths</td>\n",
       "      <td>0.500755</td>\n",
       "    </tr>\n",
       "    <tr>\n",
       "      <th>19</th>\n",
       "      <td>price</td>\n",
       "      <td>beds</td>\n",
       "      <td>0.441491</td>\n",
       "    </tr>\n",
       "    <tr>\n",
       "      <th>23</th>\n",
       "      <td>price</td>\n",
       "      <td>longitude</td>\n",
       "      <td>0.278237</td>\n",
       "    </tr>\n",
       "    <tr>\n",
       "      <th>25</th>\n",
       "      <td>price</td>\n",
       "      <td>zip</td>\n",
       "      <td>0.220222</td>\n",
       "    </tr>\n",
       "    <tr>\n",
       "      <th>46</th>\n",
       "      <td>price</td>\n",
       "      <td>latitude</td>\n",
       "      <td>0.058807</td>\n",
       "    </tr>\n",
       "  </tbody>\n",
       "</table>\n",
       "</div>"
      ],
      "text/plain": [
       "   feature1   feature2  Correlation\n",
       "4     price      price     1.000000\n",
       "11    price     sq__ft     0.693054\n",
       "17    price      baths     0.500755\n",
       "19    price       beds     0.441491\n",
       "23    price  longitude     0.278237\n",
       "25    price        zip     0.220222\n",
       "46    price   latitude     0.058807"
      ]
     },
     "execution_count": 58,
     "metadata": {},
     "output_type": "execute_result"
    }
   ],
   "source": [
    "# The best predictor are baths, beds, sq_ft, longtitude and latitude features. Because these features have high value of\n",
    "# correlation to price\n",
    "\n",
    "corr = df.corr().abs().unstack().sort_values(ascending=False).reset_index()\n",
    "corr.rename(columns={'level_0': 'feature1', 'level_1': 'feature2', 0: 'Correlation'}, inplace=True)\n",
    "price_corr = corr[corr.feature1 == 'price']\n",
    "price_corr.head(10)"
   ]
  },
  {
   "cell_type": "markdown",
   "metadata": {
    "colab_type": "text",
    "id": "1vop_P66Xd35"
   },
   "source": [
    "#### 2.3 What is the simplest way to predict price\n",
    "\n",
    "So we have information for 985 houses. What is the easiest way to predict price of a house?"
   ]
  },
  {
   "cell_type": "code",
   "execution_count": 0,
   "metadata": {
    "colab": {},
    "colab_type": "code",
    "id": "p0xBzE9iXd35"
   },
   "outputs": [],
   "source": [
    "# ANSWER: The easiest way to predict price of a house is to select a feature that has the highest correlation to it. For this\n",
    "# example, it is the sq__ft feature. "
   ]
  },
  {
   "cell_type": "markdown",
   "metadata": {
    "colab_type": "text",
    "id": "8uRWVPNuXd38"
   },
   "source": [
    "#### 2. 4 Find Resudals\n",
    "\n",
    "Find difference between actual value and predicted value. Use absolute value."
   ]
  },
  {
   "cell_type": "code",
   "execution_count": 0,
   "metadata": {
    "colab": {},
    "colab_type": "code",
    "id": "PBzfNQsGXd39"
   },
   "outputs": [],
   "source": [
    "# ANSWER: \n",
    "#1: Assume we have a 2-D model with X-axis as predictor and Y-axis as target. Find residuals by the sum of squared values\n",
    "#2: Multivariate Linear Regression can use Mean Square Error (MSE) to compute the least sum of squared around the best fit line\n",
    "#3: Otherwise, SSM(y-axis) - SSF = difference "
   ]
  },
  {
   "cell_type": "markdown",
   "metadata": {
    "colab_type": "text",
    "id": "5P61MoAsXd4B"
   },
   "source": [
    "#### 2.5  Predict Using Linear Regression\n",
    "\n",
    "[Simple Linear Regression](https://en.wikipedia.org/wiki/Simple_linear_regression#Fitting_the_regression_line)\n",
    "\n",
    "### $$\\hat{y} = \\beta_0 + \\beta_1 x$$\n",
    "\n",
    "> ### $$ \\beta_1 = \\frac{\\sum_{i=1}^n (y_i - \\bar{y} ) (x_i - \\bar{x} )}{\\sum_{i=1}^n (x_i - \\bar{x})^2} $$\n",
    "\n",
    "and\n",
    "\n",
    "> ### $$ \\beta_0 = \\bar{y} - \\beta_1\\bar{x} $$\n",
    "\n",
    "Given variables:\n",
    "- $\\bar{y}$ : the sample mean of observed values $Y$\n",
    "- $\\bar{x}$ : the sample mean of observed values $X$"
   ]
  },
  {
   "cell_type": "markdown",
   "metadata": {
    "colab_type": "text",
    "id": "drP_xuAKXd4C"
   },
   "source": [
    "##### 2.5 Define X, Y\n",
    "\n",
    "- X = Predictor Variable \n",
    "- Y = Target Variable"
   ]
  },
  {
   "cell_type": "code",
   "execution_count": 62,
   "metadata": {
    "colab": {},
    "colab_type": "code",
    "id": "yPWPQp3VXd4D"
   },
   "outputs": [],
   "source": [
    "# ANSWER\n",
    "slope, intercept = np.polyfit(df.sq__ft, df.price, 1)\n"
   ]
  },
  {
   "cell_type": "markdown",
   "metadata": {
    "colab_type": "text",
    "id": "JkV3m-EqXd4F"
   },
   "source": [
    "##### 2.5.A Calculate beta_1\n",
    "\n",
    " ### $$ \\beta_1 = \\frac{\\sum_{i=1}^n (y_i - \\bar{y} ) (x_i - \\bar{x} )}{\\sum_{i=1}^n (x_i - \\bar{x})^2} $$"
   ]
  },
  {
   "cell_type": "code",
   "execution_count": 63,
   "metadata": {
    "colab": {},
    "colab_type": "code",
    "id": "lcI1IAmXXd4G"
   },
   "outputs": [
    {
     "name": "stdout",
     "output_type": "stream",
     "text": [
      "125.05487806008615\n"
     ]
    }
   ],
   "source": [
    "# ANSWER\n",
    "print(slope)"
   ]
  },
  {
   "cell_type": "markdown",
   "metadata": {
    "colab_type": "text",
    "id": "MoA9ez44Xd4I"
   },
   "source": [
    "##### 2.5.B Calculate beta_0"
   ]
  },
  {
   "cell_type": "markdown",
   "metadata": {
    "colab_type": "text",
    "id": "V7fug5lMXd4K"
   },
   "source": [
    "### $$ \\beta_0 = \\bar{y} - \\beta_1\\bar{x} $$"
   ]
  },
  {
   "cell_type": "code",
   "execution_count": 64,
   "metadata": {
    "colab": {},
    "colab_type": "code",
    "id": "bcu8ZhFLXd4L"
   },
   "outputs": [
    {
     "name": "stdout",
     "output_type": "stream",
     "text": [
      "30578.624794263484\n"
     ]
    }
   ],
   "source": [
    "# ANSWER\n",
    "print(intercept)"
   ]
  },
  {
   "cell_type": "markdown",
   "metadata": {
    "colab_type": "text",
    "id": "Z9EUGv1KXd4N"
   },
   "source": [
    "##### 2.4.C Find Yhat (Predicted Value Using Beta 0 and Beta 1)"
   ]
  },
  {
   "cell_type": "markdown",
   "metadata": {
    "colab_type": "text",
    "id": "gSRcDL57Xd4O"
   },
   "source": [
    "### $$\\hat{y} = \\beta_0 + \\beta_1 x$$"
   ]
  },
  {
   "cell_type": "code",
   "execution_count": 66,
   "metadata": {
    "colab": {},
    "colab_type": "code",
    "id": "lGkoNedwXd4P"
   },
   "outputs": [
    {
     "name": "stdout",
     "output_type": "stream",
     "text": [
      "0      135124.502852\n",
      "1      176517.667490\n",
      "2      130122.307730\n",
      "3      137125.380901\n",
      "4      130247.362608\n",
      "           ...      \n",
      "980    315703.746771\n",
      "981    215284.679689\n",
      "982    182645.356515\n",
      "983    241296.094326\n",
      "984    200903.368712\n",
      "Name: sq__ft, Length: 812, dtype: float64\n"
     ]
    }
   ],
   "source": [
    "# ANSWER\n",
    "pre = intercept + slope * df.sq__ft\n",
    "print(pre)"
   ]
  },
  {
   "cell_type": "markdown",
   "metadata": {
    "colab_type": "text",
    "id": "h1D-rddfXd4R"
   },
   "source": [
    "##### 2.5.D Find Resudals"
   ]
  },
  {
   "cell_type": "markdown",
   "metadata": {
    "colab_type": "text",
    "id": "2cha8XAQXd4S"
   },
   "source": [
    "### $$ \\text{residual}_i = y_i - \\hat{y}_i$$"
   ]
  },
  {
   "cell_type": "code",
   "execution_count": 0,
   "metadata": {
    "colab": {},
    "colab_type": "code",
    "id": "dLZgRjbGXd4S"
   },
   "outputs": [],
   "source": [
    "# ANSWER: It would be easier to understand if we have 7 data points on a 2D graph"
   ]
  },
  {
   "cell_type": "markdown",
   "metadata": {
    "colab_type": "text",
    "id": "bpXEda_uXd4U"
   },
   "source": [
    "##### 2.5.D Find R-Square\n",
    "\n",
    "The coefficient $R^2$ is defined as $$ R^2 = 1 - \\frac{SS_{res}}{SS_{tot}} $$, where $$ SS_{res} $$ is the residual sum of squares $$ SS_{res} = \\sum_{i=1}^n \\left(y_i - \\hat{y}_i\\right)^2 $$ and $$ SS_{res} $$ is the total sum of squares $$ SS_{tot} = \\sum_{i=1}^n \\left(y_i - \\bar{y}\\right)^2 $$\n",
    "\n",
    "The best possible score is 1.0 and it can be negative (because the model can be arbitrarily worse).\n",
    "\n",
    "**Write a function to calculate R- Square value.**"
   ]
  },
  {
   "cell_type": "markdown",
   "metadata": {
    "colab_type": "text",
    "id": "1RamI9LTXd4V"
   },
   "source": [
    "The total sum of squares:\n",
    "\n",
    "### $$ SS_{tot} = \\sum_{i=1}^n \\left(y_i - \\bar{y}\\right)^2 $$\n",
    "\n",
    "The residual sum of squares:\n",
    "\n",
    "### $$ SS_{res} = \\sum_{i=1}^n \\left(y_i - \\hat{y}_i\\right)^2 $$\n",
    "\n",
    "$R^2$:\n",
    "\n",
    "### $$ R^2 = 1 - \\frac{SS_{res}}{SS_{tot}} $$"
   ]
  },
  {
   "cell_type": "code",
   "execution_count": 0,
   "metadata": {
    "colab": {},
    "colab_type": "code",
    "id": "vmxloC2RXd4W"
   },
   "outputs": [],
   "source": [
    "# ANSWER: see Lab4.1.2"
   ]
  },
  {
   "cell_type": "markdown",
   "metadata": {
    "colab_type": "text",
    "id": "7xV-CEKcXd4a"
   },
   "source": [
    "##### 2.5.G [BONUS] Draw Plot of Predicted Line"
   ]
  },
  {
   "cell_type": "code",
   "execution_count": 0,
   "metadata": {
    "colab": {},
    "colab_type": "code",
    "id": "P4JKmHWSXd4a"
   },
   "outputs": [],
   "source": [
    "# ANSWER: see Lab4.1.2"
   ]
  },
  {
   "cell_type": "markdown",
   "metadata": {
    "colab_type": "text",
    "id": "oE45Z1qaXd4f"
   },
   "source": [
    "##### 2.5.G [BONUS] Draw Plot of Predicted Line With Resudals"
   ]
  },
  {
   "cell_type": "code",
   "execution_count": 0,
   "metadata": {
    "colab": {},
    "colab_type": "code",
    "id": "yBLDh6cAXd4g"
   },
   "outputs": [],
   "source": [
    "# ANSWER: see Lab4.1.2"
   ]
  },
  {
   "cell_type": "markdown",
   "metadata": {
    "colab_type": "text",
    "id": "NTjW6xxFXd4i"
   },
   "source": [
    "### 3. Predict House Price\n",
    "\n",
    "Let's assume we have information of following house:\n",
    "\n",
    "- street:\t1140 EDMONTON DR\n",
    "- city:\tSACRAMENTO\n",
    "- zip:\t95833\n",
    "- state:\tCA\n",
    "- beds:\t3\n",
    "- baths:\t2\n",
    "- sq__ft:\t1204\n",
    "- type:\tResidential\n",
    "\n",
    "**Predict the price of this house.**"
   ]
  },
  {
   "cell_type": "code",
   "execution_count": 0,
   "metadata": {
    "colab": {},
    "colab_type": "code",
    "id": "mz5Lx5jGXd4j"
   },
   "outputs": [],
   "source": [
    "# ANSWER: see Lab4.1.2"
   ]
  },
  {
   "cell_type": "markdown",
   "metadata": {
    "colab_type": "text",
    "id": "W0FUjKlcl-NJ"
   },
   "source": [
    "\n",
    "\n",
    "---\n",
    "\n",
    "\n",
    "\n",
    "---\n",
    "\n",
    "\n",
    "\n",
    "> > > > > > > > > © 2019 Institute of Data\n",
    "\n",
    "\n",
    "---\n",
    "\n",
    "\n",
    "\n",
    "---\n",
    "\n",
    "\n",
    "\n"
   ]
  }
 ],
 "metadata": {
  "colab": {
   "collapsed_sections": [],
   "name": "IOD_Lab 4.1.1.ipynb",
   "provenance": []
  },
  "kernelspec": {
   "display_name": "Python 3",
   "language": "python",
   "name": "python3"
  },
  "language_info": {
   "codemirror_mode": {
    "name": "ipython",
    "version": 3
   },
   "file_extension": ".py",
   "mimetype": "text/x-python",
   "name": "python",
   "nbconvert_exporter": "python",
   "pygments_lexer": "ipython3",
   "version": "3.8.3"
  }
 },
 "nbformat": 4,
 "nbformat_minor": 1
}
