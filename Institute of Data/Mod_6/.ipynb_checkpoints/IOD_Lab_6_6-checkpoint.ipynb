{
 "cells": [
  {
   "cell_type": "markdown",
   "metadata": {
    "ExecuteTime": {
     "end_time": "2019-05-26T23:24:44.710131Z",
     "start_time": "2019-05-26T23:24:44.669241Z"
    },
    "colab_type": "text",
    "id": "Xk8fq5PNZBis"
   },
   "source": [
    "<div>\n",
    "<img src=https://www.institutedata.com/wp-content/uploads/2019/10/iod_h_tp_primary_c.svg width=\"300\">\n",
    "</div>"
   ]
  },
  {
   "cell_type": "markdown",
   "metadata": {
    "colab_type": "text",
    "id": "HXEmJGi6ZBiu"
   },
   "source": [
    "# Lab 6.6\n",
    "## Feature Encoding"
   ]
  },
  {
   "cell_type": "markdown",
   "metadata": {
    "colab_type": "text",
    "id": "uIs6u55WZBiv"
   },
   "source": [
    "### Data\n",
    "\n",
    "**Predict the chronic kidney disease.**\n",
    "\n",
    "This dataset can be used to predict the chronic kidney disease and it can be collected from the hospital nearly 2 months of period.\n",
    "\n",
    "We use the following representation to collect the dataset \n",
    "- age\t-\tage\t\n",
    "- bp\t-\tblood pressure \n",
    "- sg\t-\tspecific gravity \n",
    "- al\t- albumin \n",
    "- su\t-\tsugar \n",
    "- rbc\t-\tred blood cells \n",
    "- pc\t-\tpus cell \n",
    "- pcc\t-\tpus cell clumps \n",
    "- ba\t-\tbacteria \n",
    "- bgr\t-\tblood glucose random \n",
    "- bu\t-\tblood urea \n",
    "- sc\t-\tserum creatinine \n",
    "- sod\t-\tsodium \n",
    "- pot\t-\tpotassium \n",
    "- hemo\t-\themoglobin \n",
    "- pcv\t-\tpacked cell volume \n",
    "- wc\t-\twhite blood cell count \n",
    "- rc\t-\tred blood cell count \n",
    "- htn\t-\thypertension \n",
    "- dm\t-\tdiabetes mellitus \n",
    "- cad\t-\tcoronary artery disease \n",
    "- appet\t-\tappetite \n",
    "- pe\t-\tpedal edema \n",
    "- ane\t-\tanemia \n",
    "- class\t-\tclass\n",
    "\n",
    "\n",
    "\n",
    "\n",
    "[Chronic Kidney Disease DataSet](https://archive.ics.uci.edu/ml/datasets/chronic_kidney_disease)"
   ]
  },
  {
   "cell_type": "code",
   "execution_count": 15,
   "metadata": {
    "ExecuteTime": {
     "end_time": "2019-05-27T07:39:24.374436Z",
     "start_time": "2019-05-27T07:39:24.366509Z"
    },
    "colab": {},
    "colab_type": "code",
    "id": "Uv3dx6ClZBiw"
   },
   "outputs": [],
   "source": [
    "import pandas as pd\n",
    "import numpy as np\n",
    "import matplotlib.pyplot as plt\n",
    "import seaborn as sns\n",
    "from dataprep.eda import plot, plot_missing, plot_correlation\n",
    "from sklearn.feature_selection import SelectKBest\n",
    "from sklearn.feature_selection import chi2\n",
    "from sklearn.feature_selection import RFE\n",
    "from sklearn.linear_model import LogisticRegression"
   ]
  },
  {
   "cell_type": "markdown",
   "metadata": {
    "ExecuteTime": {
     "end_time": "2019-05-26T23:51:34.682929Z",
     "start_time": "2019-05-26T23:51:34.678939Z"
    },
    "colab_type": "text",
    "id": "qCrSbU7lZBiz"
   },
   "source": [
    "#### 1. Load Data"
   ]
  },
  {
   "cell_type": "code",
   "execution_count": 2,
   "metadata": {
    "ExecuteTime": {
     "end_time": "2019-05-27T07:39:40.506841Z",
     "start_time": "2019-05-27T07:39:40.502852Z"
    },
    "colab": {},
    "colab_type": "code",
    "id": "1keyNaMwZBi0"
   },
   "outputs": [
    {
     "data": {
      "text/html": [
       "<div>\n",
       "<style scoped>\n",
       "    .dataframe tbody tr th:only-of-type {\n",
       "        vertical-align: middle;\n",
       "    }\n",
       "\n",
       "    .dataframe tbody tr th {\n",
       "        vertical-align: top;\n",
       "    }\n",
       "\n",
       "    .dataframe thead th {\n",
       "        text-align: right;\n",
       "    }\n",
       "</style>\n",
       "<table border=\"1\" class=\"dataframe\">\n",
       "  <thead>\n",
       "    <tr style=\"text-align: right;\">\n",
       "      <th></th>\n",
       "      <th>id</th>\n",
       "      <th>age</th>\n",
       "      <th>bp</th>\n",
       "      <th>sg</th>\n",
       "      <th>al</th>\n",
       "      <th>su</th>\n",
       "      <th>rbc</th>\n",
       "      <th>pc</th>\n",
       "      <th>pcc</th>\n",
       "      <th>ba</th>\n",
       "      <th>...</th>\n",
       "      <th>pcv</th>\n",
       "      <th>wc</th>\n",
       "      <th>rc</th>\n",
       "      <th>htn</th>\n",
       "      <th>dm</th>\n",
       "      <th>cad</th>\n",
       "      <th>appet</th>\n",
       "      <th>pe</th>\n",
       "      <th>ane</th>\n",
       "      <th>classification</th>\n",
       "    </tr>\n",
       "  </thead>\n",
       "  <tbody>\n",
       "    <tr>\n",
       "      <th>0</th>\n",
       "      <td>0</td>\n",
       "      <td>48.0</td>\n",
       "      <td>80.0</td>\n",
       "      <td>1.020</td>\n",
       "      <td>1.0</td>\n",
       "      <td>0.0</td>\n",
       "      <td>NaN</td>\n",
       "      <td>normal</td>\n",
       "      <td>notpresent</td>\n",
       "      <td>notpresent</td>\n",
       "      <td>...</td>\n",
       "      <td>44</td>\n",
       "      <td>7800</td>\n",
       "      <td>5.2</td>\n",
       "      <td>yes</td>\n",
       "      <td>yes</td>\n",
       "      <td>no</td>\n",
       "      <td>good</td>\n",
       "      <td>no</td>\n",
       "      <td>no</td>\n",
       "      <td>ckd</td>\n",
       "    </tr>\n",
       "    <tr>\n",
       "      <th>1</th>\n",
       "      <td>1</td>\n",
       "      <td>7.0</td>\n",
       "      <td>50.0</td>\n",
       "      <td>1.020</td>\n",
       "      <td>4.0</td>\n",
       "      <td>0.0</td>\n",
       "      <td>NaN</td>\n",
       "      <td>normal</td>\n",
       "      <td>notpresent</td>\n",
       "      <td>notpresent</td>\n",
       "      <td>...</td>\n",
       "      <td>38</td>\n",
       "      <td>6000</td>\n",
       "      <td>NaN</td>\n",
       "      <td>no</td>\n",
       "      <td>no</td>\n",
       "      <td>no</td>\n",
       "      <td>good</td>\n",
       "      <td>no</td>\n",
       "      <td>no</td>\n",
       "      <td>ckd</td>\n",
       "    </tr>\n",
       "    <tr>\n",
       "      <th>2</th>\n",
       "      <td>2</td>\n",
       "      <td>62.0</td>\n",
       "      <td>80.0</td>\n",
       "      <td>1.010</td>\n",
       "      <td>2.0</td>\n",
       "      <td>3.0</td>\n",
       "      <td>normal</td>\n",
       "      <td>normal</td>\n",
       "      <td>notpresent</td>\n",
       "      <td>notpresent</td>\n",
       "      <td>...</td>\n",
       "      <td>31</td>\n",
       "      <td>7500</td>\n",
       "      <td>NaN</td>\n",
       "      <td>no</td>\n",
       "      <td>yes</td>\n",
       "      <td>no</td>\n",
       "      <td>poor</td>\n",
       "      <td>no</td>\n",
       "      <td>yes</td>\n",
       "      <td>ckd</td>\n",
       "    </tr>\n",
       "    <tr>\n",
       "      <th>3</th>\n",
       "      <td>3</td>\n",
       "      <td>48.0</td>\n",
       "      <td>70.0</td>\n",
       "      <td>1.005</td>\n",
       "      <td>4.0</td>\n",
       "      <td>0.0</td>\n",
       "      <td>normal</td>\n",
       "      <td>abnormal</td>\n",
       "      <td>present</td>\n",
       "      <td>notpresent</td>\n",
       "      <td>...</td>\n",
       "      <td>32</td>\n",
       "      <td>6700</td>\n",
       "      <td>3.9</td>\n",
       "      <td>yes</td>\n",
       "      <td>no</td>\n",
       "      <td>no</td>\n",
       "      <td>poor</td>\n",
       "      <td>yes</td>\n",
       "      <td>yes</td>\n",
       "      <td>ckd</td>\n",
       "    </tr>\n",
       "    <tr>\n",
       "      <th>4</th>\n",
       "      <td>4</td>\n",
       "      <td>51.0</td>\n",
       "      <td>80.0</td>\n",
       "      <td>1.010</td>\n",
       "      <td>2.0</td>\n",
       "      <td>0.0</td>\n",
       "      <td>normal</td>\n",
       "      <td>normal</td>\n",
       "      <td>notpresent</td>\n",
       "      <td>notpresent</td>\n",
       "      <td>...</td>\n",
       "      <td>35</td>\n",
       "      <td>7300</td>\n",
       "      <td>4.6</td>\n",
       "      <td>no</td>\n",
       "      <td>no</td>\n",
       "      <td>no</td>\n",
       "      <td>good</td>\n",
       "      <td>no</td>\n",
       "      <td>no</td>\n",
       "      <td>ckd</td>\n",
       "    </tr>\n",
       "  </tbody>\n",
       "</table>\n",
       "<p>5 rows × 26 columns</p>\n",
       "</div>"
      ],
      "text/plain": [
       "   id   age    bp     sg   al   su     rbc        pc         pcc          ba  \\\n",
       "0   0  48.0  80.0  1.020  1.0  0.0     NaN    normal  notpresent  notpresent   \n",
       "1   1   7.0  50.0  1.020  4.0  0.0     NaN    normal  notpresent  notpresent   \n",
       "2   2  62.0  80.0  1.010  2.0  3.0  normal    normal  notpresent  notpresent   \n",
       "3   3  48.0  70.0  1.005  4.0  0.0  normal  abnormal     present  notpresent   \n",
       "4   4  51.0  80.0  1.010  2.0  0.0  normal    normal  notpresent  notpresent   \n",
       "\n",
       "   ...  pcv    wc   rc  htn   dm  cad appet   pe  ane classification  \n",
       "0  ...   44  7800  5.2  yes  yes   no  good   no   no            ckd  \n",
       "1  ...   38  6000  NaN   no   no   no  good   no   no            ckd  \n",
       "2  ...   31  7500  NaN   no  yes   no  poor   no  yes            ckd  \n",
       "3  ...   32  6700  3.9  yes   no   no  poor  yes  yes            ckd  \n",
       "4  ...   35  7300  4.6   no   no   no  good   no   no            ckd  \n",
       "\n",
       "[5 rows x 26 columns]"
      ]
     },
     "execution_count": 2,
     "metadata": {},
     "output_type": "execute_result"
    }
   ],
   "source": [
    "# Read Data\n",
    "kidney = pd.read_csv('kidney_disease.csv')\n",
    "kidney.head()"
   ]
  },
  {
   "cell_type": "code",
   "execution_count": 3,
   "metadata": {},
   "outputs": [
    {
     "name": "stdout",
     "output_type": "stream",
     "text": [
      "<class 'pandas.core.frame.DataFrame'>\n",
      "RangeIndex: 400 entries, 0 to 399\n",
      "Data columns (total 26 columns):\n",
      " #   Column          Non-Null Count  Dtype  \n",
      "---  ------          --------------  -----  \n",
      " 0   id              400 non-null    int64  \n",
      " 1   age             391 non-null    float64\n",
      " 2   bp              388 non-null    float64\n",
      " 3   sg              353 non-null    float64\n",
      " 4   al              354 non-null    float64\n",
      " 5   su              351 non-null    float64\n",
      " 6   rbc             248 non-null    object \n",
      " 7   pc              335 non-null    object \n",
      " 8   pcc             396 non-null    object \n",
      " 9   ba              396 non-null    object \n",
      " 10  bgr             356 non-null    float64\n",
      " 11  bu              381 non-null    float64\n",
      " 12  sc              383 non-null    float64\n",
      " 13  sod             313 non-null    float64\n",
      " 14  pot             312 non-null    float64\n",
      " 15  hemo            348 non-null    float64\n",
      " 16  pcv             330 non-null    object \n",
      " 17  wc              295 non-null    object \n",
      " 18  rc              270 non-null    object \n",
      " 19  htn             398 non-null    object \n",
      " 20  dm              398 non-null    object \n",
      " 21  cad             398 non-null    object \n",
      " 22  appet           399 non-null    object \n",
      " 23  pe              399 non-null    object \n",
      " 24  ane             399 non-null    object \n",
      " 25  classification  400 non-null    object \n",
      "dtypes: float64(11), int64(1), object(14)\n",
      "memory usage: 81.4+ KB\n"
     ]
    }
   ],
   "source": [
    "kidney.info()"
   ]
  },
  {
   "cell_type": "code",
   "execution_count": 4,
   "metadata": {},
   "outputs": [
    {
     "data": {
      "text/html": [
       "<div>\n",
       "<style scoped>\n",
       "    .dataframe tbody tr th:only-of-type {\n",
       "        vertical-align: middle;\n",
       "    }\n",
       "\n",
       "    .dataframe tbody tr th {\n",
       "        vertical-align: top;\n",
       "    }\n",
       "\n",
       "    .dataframe thead th {\n",
       "        text-align: right;\n",
       "    }\n",
       "</style>\n",
       "<table border=\"1\" class=\"dataframe\">\n",
       "  <thead>\n",
       "    <tr style=\"text-align: right;\">\n",
       "      <th></th>\n",
       "      <th>count</th>\n",
       "      <th>mean</th>\n",
       "      <th>std</th>\n",
       "      <th>min</th>\n",
       "      <th>25%</th>\n",
       "      <th>50%</th>\n",
       "      <th>75%</th>\n",
       "      <th>max</th>\n",
       "    </tr>\n",
       "  </thead>\n",
       "  <tbody>\n",
       "    <tr>\n",
       "      <th>id</th>\n",
       "      <td>400.0</td>\n",
       "      <td>199.500000</td>\n",
       "      <td>115.614301</td>\n",
       "      <td>0.000</td>\n",
       "      <td>99.75</td>\n",
       "      <td>199.50</td>\n",
       "      <td>299.25</td>\n",
       "      <td>399.000</td>\n",
       "    </tr>\n",
       "    <tr>\n",
       "      <th>age</th>\n",
       "      <td>391.0</td>\n",
       "      <td>51.483376</td>\n",
       "      <td>17.169714</td>\n",
       "      <td>2.000</td>\n",
       "      <td>42.00</td>\n",
       "      <td>55.00</td>\n",
       "      <td>64.50</td>\n",
       "      <td>90.000</td>\n",
       "    </tr>\n",
       "    <tr>\n",
       "      <th>bp</th>\n",
       "      <td>388.0</td>\n",
       "      <td>76.469072</td>\n",
       "      <td>13.683637</td>\n",
       "      <td>50.000</td>\n",
       "      <td>70.00</td>\n",
       "      <td>80.00</td>\n",
       "      <td>80.00</td>\n",
       "      <td>180.000</td>\n",
       "    </tr>\n",
       "    <tr>\n",
       "      <th>sg</th>\n",
       "      <td>353.0</td>\n",
       "      <td>1.017408</td>\n",
       "      <td>0.005717</td>\n",
       "      <td>1.005</td>\n",
       "      <td>1.01</td>\n",
       "      <td>1.02</td>\n",
       "      <td>1.02</td>\n",
       "      <td>1.025</td>\n",
       "    </tr>\n",
       "    <tr>\n",
       "      <th>al</th>\n",
       "      <td>354.0</td>\n",
       "      <td>1.016949</td>\n",
       "      <td>1.352679</td>\n",
       "      <td>0.000</td>\n",
       "      <td>0.00</td>\n",
       "      <td>0.00</td>\n",
       "      <td>2.00</td>\n",
       "      <td>5.000</td>\n",
       "    </tr>\n",
       "    <tr>\n",
       "      <th>su</th>\n",
       "      <td>351.0</td>\n",
       "      <td>0.450142</td>\n",
       "      <td>1.099191</td>\n",
       "      <td>0.000</td>\n",
       "      <td>0.00</td>\n",
       "      <td>0.00</td>\n",
       "      <td>0.00</td>\n",
       "      <td>5.000</td>\n",
       "    </tr>\n",
       "    <tr>\n",
       "      <th>bgr</th>\n",
       "      <td>356.0</td>\n",
       "      <td>148.036517</td>\n",
       "      <td>79.281714</td>\n",
       "      <td>22.000</td>\n",
       "      <td>99.00</td>\n",
       "      <td>121.00</td>\n",
       "      <td>163.00</td>\n",
       "      <td>490.000</td>\n",
       "    </tr>\n",
       "    <tr>\n",
       "      <th>bu</th>\n",
       "      <td>381.0</td>\n",
       "      <td>57.425722</td>\n",
       "      <td>50.503006</td>\n",
       "      <td>1.500</td>\n",
       "      <td>27.00</td>\n",
       "      <td>42.00</td>\n",
       "      <td>66.00</td>\n",
       "      <td>391.000</td>\n",
       "    </tr>\n",
       "    <tr>\n",
       "      <th>sc</th>\n",
       "      <td>383.0</td>\n",
       "      <td>3.072454</td>\n",
       "      <td>5.741126</td>\n",
       "      <td>0.400</td>\n",
       "      <td>0.90</td>\n",
       "      <td>1.30</td>\n",
       "      <td>2.80</td>\n",
       "      <td>76.000</td>\n",
       "    </tr>\n",
       "    <tr>\n",
       "      <th>sod</th>\n",
       "      <td>313.0</td>\n",
       "      <td>137.528754</td>\n",
       "      <td>10.408752</td>\n",
       "      <td>4.500</td>\n",
       "      <td>135.00</td>\n",
       "      <td>138.00</td>\n",
       "      <td>142.00</td>\n",
       "      <td>163.000</td>\n",
       "    </tr>\n",
       "    <tr>\n",
       "      <th>pot</th>\n",
       "      <td>312.0</td>\n",
       "      <td>4.627244</td>\n",
       "      <td>3.193904</td>\n",
       "      <td>2.500</td>\n",
       "      <td>3.80</td>\n",
       "      <td>4.40</td>\n",
       "      <td>4.90</td>\n",
       "      <td>47.000</td>\n",
       "    </tr>\n",
       "    <tr>\n",
       "      <th>hemo</th>\n",
       "      <td>348.0</td>\n",
       "      <td>12.526437</td>\n",
       "      <td>2.912587</td>\n",
       "      <td>3.100</td>\n",
       "      <td>10.30</td>\n",
       "      <td>12.65</td>\n",
       "      <td>15.00</td>\n",
       "      <td>17.800</td>\n",
       "    </tr>\n",
       "  </tbody>\n",
       "</table>\n",
       "</div>"
      ],
      "text/plain": [
       "      count        mean         std     min     25%     50%     75%      max\n",
       "id    400.0  199.500000  115.614301   0.000   99.75  199.50  299.25  399.000\n",
       "age   391.0   51.483376   17.169714   2.000   42.00   55.00   64.50   90.000\n",
       "bp    388.0   76.469072   13.683637  50.000   70.00   80.00   80.00  180.000\n",
       "sg    353.0    1.017408    0.005717   1.005    1.01    1.02    1.02    1.025\n",
       "al    354.0    1.016949    1.352679   0.000    0.00    0.00    2.00    5.000\n",
       "su    351.0    0.450142    1.099191   0.000    0.00    0.00    0.00    5.000\n",
       "bgr   356.0  148.036517   79.281714  22.000   99.00  121.00  163.00  490.000\n",
       "bu    381.0   57.425722   50.503006   1.500   27.00   42.00   66.00  391.000\n",
       "sc    383.0    3.072454    5.741126   0.400    0.90    1.30    2.80   76.000\n",
       "sod   313.0  137.528754   10.408752   4.500  135.00  138.00  142.00  163.000\n",
       "pot   312.0    4.627244    3.193904   2.500    3.80    4.40    4.90   47.000\n",
       "hemo  348.0   12.526437    2.912587   3.100   10.30   12.65   15.00   17.800"
      ]
     },
     "execution_count": 4,
     "metadata": {},
     "output_type": "execute_result"
    }
   ],
   "source": [
    "kidney.describe().T"
   ]
  },
  {
   "cell_type": "code",
   "execution_count": 7,
   "metadata": {},
   "outputs": [
    {
     "data": {
      "text/plain": [
       "rbc                2\n",
       "pc                 2\n",
       "pcc                2\n",
       "ba                 2\n",
       "pcv               44\n",
       "wc                92\n",
       "rc                49\n",
       "htn                2\n",
       "dm                 5\n",
       "cad                3\n",
       "appet              2\n",
       "pe                 2\n",
       "ane                2\n",
       "classification     3\n",
       "dtype: int64"
      ]
     },
     "execution_count": 7,
     "metadata": {},
     "output_type": "execute_result"
    }
   ],
   "source": [
    "kidney.select_dtypes('object').apply(pd.Series.nunique, axis=0)"
   ]
  },
  {
   "cell_type": "code",
   "execution_count": 12,
   "metadata": {},
   "outputs": [
    {
     "data": {
      "text/plain": [
       "ckd       0.620\n",
       "notckd    0.375\n",
       "ckd\\t     0.005\n",
       "Name: classification, dtype: float64"
      ]
     },
     "execution_count": 12,
     "metadata": {},
     "output_type": "execute_result"
    }
   ],
   "source": [
    "kidney.classification.value_counts(normalize=True)"
   ]
  },
  {
   "cell_type": "markdown",
   "metadata": {
    "colab_type": "text",
    "id": "IR_aDbYyZBi3"
   },
   "source": [
    "#### 2. Perform EDA\n",
    "\n",
    "Perform EDA. Check null values. Impute if necessary."
   ]
  },
  {
   "cell_type": "code",
   "execution_count": 14,
   "metadata": {},
   "outputs": [
    {
     "data": {
      "text/html": [
       "\n",
       "\n",
       "\n",
       "    \n",
       "    \n",
       "        \n",
       "        \n",
       "        \n",
       "            <div class=\"bk-root\" id=\"b5a40c95-6cef-40b4-b234-3ef0c33a3091\" data-root-id=\"1165\"></div>\n",
       "        \n",
       "        \n",
       "    \n",
       "    \n",
       "    \n",
       "        <script type=\"application/json\" id=\"1574\">\n",
       "          {\"5f7bd63e-80ec-4f52-9a23-212386a16e22\":{\"roots\":{\"references\":[{\"attributes\":{\"data\":{\"Missing\":[9,46,1,1,4,44,12,19,2,0,2,52,2,0,65,4,70,1,88,152,130,17,47,87,49,105],\"Present\":[391,354,399,399,396,356,388,381,398,400,398,348,398,400,335,396,330,399,312,248,270,383,353,313,351,295],\"index\":[\"age\",\"al\",\"ane\",\"appet\",\"ba\",\"bgr\",\"bp\",\"bu\",\"cad\",\"classification\",\"dm\",\"hemo\",\"htn\",\"id\",\"pc\",\"pcc\",\"pcv\",\"pe\",\"pot\",\"rbc\",\"rc\",\"sc\",\"sg\",\"sod\",\"su\",\"wc\"]},\"selected\":{\"id\":\"1189\"},\"selection_policy\":{\"id\":\"1188\"}},\"id\":\"1036\",\"type\":\"ColumnDataSource\"},{\"attributes\":{\"source\":{\"id\":\"1036\"}},\"id\":\"1041\",\"type\":\"CDSView\"},{\"attributes\":{\"active_drag\":\"auto\",\"active_inspect\":\"auto\",\"active_multi\":null,\"active_scroll\":\"auto\",\"active_tap\":\"auto\",\"tools\":[{\"id\":\"1115\"}]},\"id\":\"1116\",\"type\":\"Toolbar\"},{\"attributes\":{\"fill_color\":{\"field\":\"missing_rate\",\"transform\":{\"id\":\"1061\"}},\"height\":{\"units\":\"data\",\"value\":13.0},\"line_color\":{\"value\":null},\"line_width\":{\"value\":0},\"width\":{\"units\":\"data\",\"value\":0.95},\"x\":{\"field\":\"column_with_perc\"},\"y\":{\"field\":\"location\"}},\"id\":\"1088\",\"type\":\"Rect\"},{\"attributes\":{\"data\":{\"correlation\":{\"__ndarray__\":\"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\",\"dtype\":\"float64\",\"shape\":[276]},\"index\":[1,2,3,4,5,6,7,8,9,10,11,12,13,14,15,16,17,18,19,20,21,22,23,26,27,28,29,30,31,32,33,34,35,36,37,38,39,40,41,42,43,44,45,46,47,51,52,53,54,55,56,57,58,59,60,61,62,63,64,65,66,67,68,69,70,71,76,77,78,79,80,81,82,83,84,85,86,87,88,89,90,91,92,93,94,95,101,102,103,104,105,106,107,108,109,110,111,112,113,114,115,116,117,118,119,126,127,128,129,130,131,132,133,134,135,136,137,138,139,140,141,142,143,151,152,153,154,155,156,157,158,159,160,161,162,163,164,165,166,167,176,177,178,179,180,181,182,183,184,185,186,187,188,189,190,191,201,202,203,204,205,206,207,208,209,210,211,212,213,214,215,226,227,228,229,230,231,232,233,234,235,236,237,238,239,251,252,253,254,255,256,257,258,259,260,261,262,263,276,277,278,279,280,281,282,283,284,285,286,287,301,302,303,304,305,306,307,308,309,310,311,326,327,328,329,330,331,332,333,334,335,351,352,353,354,355,356,357,358,359,376,377,378,379,380,381,382,383,401,402,403,404,405,406,407,426,427,428,429,430,431,451,452,453,454,455,476,477,478,479,501,502,503,526,527,551],\"x\":[\"age\",\"age\",\"age\",\"age\",\"age\",\"age\",\"age\",\"age\",\"age\",\"age\",\"age\",\"age\",\"age\",\"age\",\"age\",\"age\",\"age\",\"age\",\"age\",\"age\",\"age\",\"age\",\"age\",\"bp\",\"bp\",\"bp\",\"bp\",\"bp\",\"bp\",\"bp\",\"bp\",\"bp\",\"bp\",\"bp\",\"bp\",\"bp\",\"bp\",\"bp\",\"bp\",\"bp\",\"bp\",\"bp\",\"bp\",\"bp\",\"bp\",\"sg\",\"sg\",\"sg\",\"sg\",\"sg\",\"sg\",\"sg\",\"sg\",\"sg\",\"sg\",\"sg\",\"sg\",\"sg\",\"sg\",\"sg\",\"sg\",\"sg\",\"sg\",\"sg\",\"sg\",\"sg\",\"al\",\"al\",\"al\",\"al\",\"al\",\"al\",\"al\",\"al\",\"al\",\"al\",\"al\",\"al\",\"al\",\"al\",\"al\",\"al\",\"al\",\"al\",\"al\",\"al\",\"su\",\"su\",\"su\",\"su\",\"su\",\"su\",\"su\",\"su\",\"su\",\"su\",\"su\",\"su\",\"su\",\"su\",\"su\",\"su\",\"su\",\"su\",\"su\",\"rbc\",\"rbc\",\"rbc\",\"rbc\",\"rbc\",\"rbc\",\"rbc\",\"rbc\",\"rbc\",\"rbc\",\"rbc\",\"rbc\",\"rbc\",\"rbc\",\"rbc\",\"rbc\",\"rbc\",\"rbc\",\"pc\",\"pc\",\"pc\",\"pc\",\"pc\",\"pc\",\"pc\",\"pc\",\"pc\",\"pc\",\"pc\",\"pc\",\"pc\",\"pc\",\"pc\",\"pc\",\"pc\",\"pcc\",\"pcc\",\"pcc\",\"pcc\",\"pcc\",\"pcc\",\"pcc\",\"pcc\",\"pcc\",\"pcc\",\"pcc\",\"pcc\",\"pcc\",\"pcc\",\"pcc\",\"pcc\",\"ba\",\"ba\",\"ba\",\"ba\",\"ba\",\"ba\",\"ba\",\"ba\",\"ba\",\"ba\",\"ba\",\"ba\",\"ba\",\"ba\",\"ba\",\"bgr\",\"bgr\",\"bgr\",\"bgr\",\"bgr\",\"bgr\",\"bgr\",\"bgr\",\"bgr\",\"bgr\",\"bgr\",\"bgr\",\"bgr\",\"bgr\",\"bu\",\"bu\",\"bu\",\"bu\",\"bu\",\"bu\",\"bu\",\"bu\",\"bu\",\"bu\",\"bu\",\"bu\",\"bu\",\"sc\",\"sc\",\"sc\",\"sc\",\"sc\",\"sc\",\"sc\",\"sc\",\"sc\",\"sc\",\"sc\",\"sc\",\"sod\",\"sod\",\"sod\",\"sod\",\"sod\",\"sod\",\"sod\",\"sod\",\"sod\",\"sod\",\"sod\",\"pot\",\"pot\",\"pot\",\"pot\",\"pot\",\"pot\",\"pot\",\"pot\",\"pot\",\"pot\",\"hemo\",\"hemo\",\"hemo\",\"hemo\",\"hemo\",\"hemo\",\"hemo\",\"hemo\",\"hemo\",\"pcv\",\"pcv\",\"pcv\",\"pcv\",\"pcv\",\"pcv\",\"pcv\",\"pcv\",\"wc\",\"wc\",\"wc\",\"wc\",\"wc\",\"wc\",\"wc\",\"rc\",\"rc\",\"rc\",\"rc\",\"rc\",\"rc\",\"htn\",\"htn\",\"htn\",\"htn\",\"htn\",\"dm\",\"dm\",\"dm\",\"dm\",\"cad\",\"cad\",\"cad\",\"appet\",\"appet\",\"pe\"],\"y\":[\"bp\",\"sg\",\"al\",\"su\",\"rbc\",\"pc\",\"pcc\",\"ba\",\"bgr\",\"bu\",\"sc\",\"sod\",\"pot\",\"hemo\",\"pcv\",\"wc\",\"rc\",\"htn\",\"dm\",\"cad\",\"appet\",\"pe\",\"ane\",\"sg\",\"al\",\"su\",\"rbc\",\"pc\",\"pcc\",\"ba\",\"bgr\",\"bu\",\"sc\",\"sod\",\"pot\",\"hemo\",\"pcv\",\"wc\",\"rc\",\"htn\",\"dm\",\"cad\",\"appet\",\"pe\",\"ane\",\"al\",\"su\",\"rbc\",\"pc\",\"pcc\",\"ba\",\"bgr\",\"bu\",\"sc\",\"sod\",\"pot\",\"hemo\",\"pcv\",\"wc\",\"rc\",\"htn\",\"dm\",\"cad\",\"appet\",\"pe\",\"ane\",\"su\",\"rbc\",\"pc\",\"pcc\",\"ba\",\"bgr\",\"bu\",\"sc\",\"sod\",\"pot\",\"hemo\",\"pcv\",\"wc\",\"rc\",\"htn\",\"dm\",\"cad\",\"appet\",\"pe\",\"ane\",\"rbc\",\"pc\",\"pcc\",\"ba\",\"bgr\",\"bu\",\"sc\",\"sod\",\"pot\",\"hemo\",\"pcv\",\"wc\",\"rc\",\"htn\",\"dm\",\"cad\",\"appet\",\"pe\",\"ane\",\"pc\",\"pcc\",\"ba\",\"bgr\",\"bu\",\"sc\",\"sod\",\"pot\",\"hemo\",\"pcv\",\"wc\",\"rc\",\"htn\",\"dm\",\"cad\",\"appet\",\"pe\",\"ane\",\"pcc\",\"ba\",\"bgr\",\"bu\",\"sc\",\"sod\",\"pot\",\"hemo\",\"pcv\",\"wc\",\"rc\",\"htn\",\"dm\",\"cad\",\"appet\",\"pe\",\"ane\",\"ba\",\"bgr\",\"bu\",\"sc\",\"sod\",\"pot\",\"hemo\",\"pcv\",\"wc\",\"rc\",\"htn\",\"dm\",\"cad\",\"appet\",\"pe\",\"ane\",\"bgr\",\"bu\",\"sc\",\"sod\",\"pot\",\"hemo\",\"pcv\",\"wc\",\"rc\",\"htn\",\"dm\",\"cad\",\"appet\",\"pe\",\"ane\",\"bu\",\"sc\",\"sod\",\"pot\",\"hemo\",\"pcv\",\"wc\",\"rc\",\"htn\",\"dm\",\"cad\",\"appet\",\"pe\",\"ane\",\"sc\",\"sod\",\"pot\",\"hemo\",\"pcv\",\"wc\",\"rc\",\"htn\",\"dm\",\"cad\",\"appet\",\"pe\",\"ane\",\"sod\",\"pot\",\"hemo\",\"pcv\",\"wc\",\"rc\",\"htn\",\"dm\",\"cad\",\"appet\",\"pe\",\"ane\",\"pot\",\"hemo\",\"pcv\",\"wc\",\"rc\",\"htn\",\"dm\",\"cad\",\"appet\",\"pe\",\"ane\",\"hemo\",\"pcv\",\"wc\",\"rc\",\"htn\",\"dm\",\"cad\",\"appet\",\"pe\",\"ane\",\"pcv\",\"wc\",\"rc\",\"htn\",\"dm\",\"cad\",\"appet\",\"pe\",\"ane\",\"wc\",\"rc\",\"htn\",\"dm\",\"cad\",\"appet\",\"pe\",\"ane\",\"rc\",\"htn\",\"dm\",\"cad\",\"appet\",\"pe\",\"ane\",\"htn\",\"dm\",\"cad\",\"appet\",\"pe\",\"ane\",\"dm\",\"cad\",\"appet\",\"pe\",\"ane\",\"cad\",\"appet\",\"pe\",\"ane\",\"appet\",\"pe\",\"ane\",\"pe\",\"ane\",\"ane\"]},\"selected\":{\"id\":\"1193\"},\"selection_policy\":{\"id\":\"1192\"}},\"id\":\"1118\",\"type\":\"ColumnDataSource\"},{\"attributes\":{\"bottom\":{\"expr\":{\"id\":\"1020\"}},\"fill_alpha\":{\"value\":0.1},\"fill_color\":{\"value\":\"#ff7f0e\"},\"line_alpha\":{\"value\":0.1},\"line_color\":{\"value\":\"#ff7f0e\"},\"top\":{\"expr\":{\"id\":\"1021\"}},\"width\":{\"value\":0.9},\"x\":{\"field\":\"index\"}},\"id\":\"1039\",\"type\":\"VBar\"},{\"attributes\":{},\"id\":\"1072\",\"type\":\"CategoricalScale\"},{\"attributes\":{\"bottom\":{\"expr\":{\"id\":\"1020\"}},\"fill_color\":{\"value\":\"#ff7f0e\"},\"line_color\":{\"value\":\"#ff7f0e\"},\"top\":{\"expr\":{\"id\":\"1021\"}},\"width\":{\"value\":0.9},\"x\":{\"field\":\"index\"}},\"id\":\"1038\",\"type\":\"VBar\"},{\"attributes\":{\"line_alpha\":{\"value\":0.1},\"line_color\":{\"value\":\"#8073ac\"},\"xs\":{\"field\":\"xs\"},\"ys\":{\"field\":\"ys\"}},\"id\":\"1150\",\"type\":\"MultiLine\"},{\"attributes\":{\"fill_alpha\":{\"value\":0.1},\"fill_color\":{\"field\":\"missing_rate\",\"transform\":{\"id\":\"1061\"}},\"height\":{\"units\":\"data\",\"value\":13.0},\"line_alpha\":{\"value\":0.1},\"line_color\":{\"value\":null},\"line_width\":{\"value\":0},\"width\":{\"units\":\"data\",\"value\":0.95},\"x\":{\"field\":\"column_with_perc\"},\"y\":{\"field\":\"location\"}},\"id\":\"1089\",\"type\":\"Rect\"},{\"attributes\":{},\"id\":\"1184\",\"type\":\"BasicTickFormatter\"},{\"attributes\":{\"formatter\":{\"id\":\"1057\"},\"major_label_orientation\":1.0471975511965976,\"major_label_standoff\":0,\"major_label_text_font_size\":\"9pt\",\"major_tick_line_color\":null,\"ticker\":{\"id\":\"1011\"}},\"id\":\"1010\",\"type\":\"CategoricalAxis\"},{\"attributes\":{\"callback\":null,\"tooltips\":[[\"x\",\"@x\"],[\"y\",\"@y\"],[\"correlation\",\"@correlation{1.11}\"]]},\"id\":\"1115\",\"type\":\"HoverTool\"},{\"attributes\":{\"formatter\":{\"id\":\"1180\"},\"major_label_orientation\":1.0471975511965976,\"major_label_standoff\":0,\"major_label_text_font_size\":\"9pt\",\"major_tick_line_color\":null,\"ticker\":{\"id\":\"1077\"}},\"id\":\"1076\",\"type\":\"CategoricalAxis\"},{\"attributes\":{\"axis\":{\"id\":\"1112\"},\"dimension\":1,\"grid_line_color\":null,\"ticker\":null},\"id\":\"1114\",\"type\":\"Grid\"},{\"attributes\":{\"label\":{\"value\":\"Missing\"},\"renderers\":[{\"id\":\"1040\"}]},\"id\":\"1050\",\"type\":\"LegendItem\"},{\"attributes\":{\"text\":\"\"},\"id\":\"1172\",\"type\":\"Title\"},{\"attributes\":{\"data\":{\"n\":[1.0,1.73,2.34,4.93,2.0,0.0,0.0,0.0,0.0,0.0,0.0,1.0,1.6,2.26,3.26,3.73,4.55,6.69,7.57,4.9,5.2,8.18,9.5,9.72,11.83],\"x\":[[15,25],[55,65],[45,60],[35,52],[85,95],[125,135],[155,165],[145,160],[175,185],[205,215],[195,210],[180,202],[152,191],[130,172],[115,151],[105,133],[90,119],[75,104],[44,90],[225,235],[245,255],[230,250],[67,240],[20,153],[5,87]],\"y\":[[1.0,1.0],[1.73,1.73],[2.34,2.34],[4.93,4.93],[2.0,2.0],[0.0,0.0],[0.0,0.0],[0.0,0.0],[0.0,0.0],[0.0,0.0],[0.0,0.0],[1.0,1.0],[1.6,1.6],[2.26,2.26],[3.26,3.26],[3.73,3.73],[4.55,4.55],[6.69,6.69],[7.57,7.57],[4.9,4.9],[5.2,5.2],[8.18,8.18],[9.5,9.5],[9.72,9.72],[11.83,11.83]]},\"selected\":{\"id\":\"1197\"},\"selection_policy\":{\"id\":\"1196\"}},\"id\":\"1153\",\"type\":\"ColumnDataSource\"},{\"attributes\":{\"data_source\":{\"id\":\"1036\"},\"glyph\":{\"id\":\"1038\"},\"hover_glyph\":null,\"muted_glyph\":null,\"name\":\"Missing\",\"nonselection_glyph\":{\"id\":\"1039\"},\"selection_glyph\":null,\"view\":{\"id\":\"1041\"}},\"id\":\"1040\",\"type\":\"GlyphRenderer\"},{\"attributes\":{\"args\":{\"source\":{\"id\":\"1051\"}},\"code\":\"\\n        const columns = Object.keys(source.data)\\n        const cur_bar = special_vars.data_x - 0.5\\n        var ttl_bar = 0\\n        for (let i = 0; i &lt; columns.length; i++) {\\n            if (columns[i] != 'index'){\\n                ttl_bar = ttl_bar + source.data[columns[i]][cur_bar]\\n            }\\n        }\\n        const cur_val = source.data[special_vars.name][cur_bar]\\n        return (cur_val/ttl_bar * 100).toFixed(2)+'%';\\n    \"},\"id\":\"1052\",\"type\":\"CustomJSHover\"},{\"attributes\":{},\"id\":\"1190\",\"type\":\"UnionRenderers\"},{\"attributes\":{\"axis_line_color\":null,\"formatter\":{\"id\":\"1124\"},\"major_label_orientation\":1.0471975511965976,\"major_label_standoff\":0,\"major_label_text_font_size\":\"9pt\",\"major_tick_line_color\":null,\"ticker\":{\"id\":\"1110\"}},\"id\":\"1109\",\"type\":\"CategoricalAxis\"},{\"attributes\":{},\"id\":\"1095\",\"type\":\"BasicTicker\"},{\"attributes\":{\"data_source\":{\"id\":\"1086\"},\"glyph\":{\"id\":\"1088\"},\"hover_glyph\":null,\"muted_glyph\":null,\"nonselection_glyph\":{\"id\":\"1089\"},\"selection_glyph\":null,\"view\":{\"id\":\"1091\"}},\"id\":\"1090\",\"type\":\"GlyphRenderer\"},{\"attributes\":{},\"id\":\"1062\",\"type\":\"BasicTicker\"},{\"attributes\":{\"callback\":null,\"line_policy\":\"interp\",\"renderers\":[{\"id\":\"1157\"}],\"tooltips\":[[\"Average distance\",\"@n{0.1f}\"]]},\"id\":\"1159\",\"type\":\"HoverTool\"},{\"attributes\":{},\"id\":\"1191\",\"type\":\"Selection\"},{\"attributes\":{},\"id\":\"1105\",\"type\":\"CategoricalScale\"},{\"attributes\":{\"below\":[{\"id\":\"1076\"}],\"center\":[{\"id\":\"1078\"},{\"id\":\"1082\"}],\"left\":[{\"id\":\"1079\"}],\"plot_height\":500,\"plot_width\":728,\"renderers\":[{\"id\":\"1090\"}],\"right\":[{\"id\":\"1064\"}],\"title\":{\"id\":\"1168\"},\"toolbar\":{\"id\":\"1084\"},\"toolbar_location\":null,\"x_range\":{\"id\":\"1067\"},\"x_scale\":{\"id\":\"1072\"},\"y_range\":{\"id\":\"1068\"},\"y_scale\":{\"id\":\"1074\"}},\"id\":\"1069\",\"subtype\":\"Figure\",\"type\":\"Plot\"},{\"attributes\":{\"data_source\":{\"id\":\"1022\"},\"glyph\":{\"id\":\"1024\"},\"hover_glyph\":null,\"muted_glyph\":null,\"name\":\"Present\",\"nonselection_glyph\":{\"id\":\"1025\"},\"selection_glyph\":null,\"view\":{\"id\":\"1027\"}},\"id\":\"1026\",\"type\":\"GlyphRenderer\"},{\"attributes\":{\"items\":[{\"id\":\"1035\"},{\"id\":\"1050\"}]},\"id\":\"1034\",\"type\":\"Legend\"},{\"attributes\":{\"callback\":null,\"formatters\":{\"@{Present}\":{\"id\":\"1052\"}},\"renderers\":[{\"id\":\"1026\"}],\"tooltips\":[[\"Column\",\"@index\"],[\"Present count\",\"@$name\"],[\"Present percent\",\"@{Present}{custom}\"]]},\"id\":\"1053\",\"type\":\"HoverTool\"},{\"attributes\":{\"line_alpha\":{\"value\":0.1},\"line_color\":{\"value\":\"#8073ac\"},\"xs\":{\"field\":\"x\"},\"ys\":{\"field\":\"y\"}},\"id\":\"1156\",\"type\":\"MultiLine\"},{\"attributes\":{\"label\":{\"value\":\"Present\"},\"renderers\":[{\"id\":\"1026\"}]},\"id\":\"1035\",\"type\":\"LegendItem\"},{\"attributes\":{\"bottom\":{\"expr\":{\"id\":\"1018\"}},\"fill_alpha\":{\"value\":0.1},\"fill_color\":{\"value\":\"#1f77b4\"},\"line_alpha\":{\"value\":0.1},\"line_color\":{\"value\":\"#1f77b4\"},\"top\":{\"expr\":{\"id\":\"1019\"}},\"width\":{\"value\":0.9},\"x\":{\"field\":\"index\"}},\"id\":\"1025\",\"type\":\"VBar\"},{\"attributes\":{\"below\":[{\"id\":\"1139\"}],\"center\":[{\"id\":\"1142\"},{\"id\":\"1146\"}],\"left\":[{\"id\":\"1143\"}],\"plot_height\":500,\"plot_width\":728,\"renderers\":[{\"id\":\"1151\"},{\"id\":\"1157\"}],\"title\":{\"id\":\"1172\"},\"toolbar\":{\"id\":\"1147\"},\"toolbar_location\":null,\"x_range\":{\"id\":\"1131\"},\"x_scale\":{\"id\":\"1135\"},\"y_range\":{\"id\":\"1133\"},\"y_scale\":{\"id\":\"1137\"}},\"id\":\"1130\",\"subtype\":\"Figure\",\"type\":\"Plot\"},{\"attributes\":{\"source\":{\"id\":\"1086\"}},\"id\":\"1091\",\"type\":\"CDSView\"},{\"attributes\":{\"source\":{\"id\":\"1148\"}},\"id\":\"1152\",\"type\":\"CDSView\"},{\"attributes\":{\"tabs\":[{\"id\":\"1060\"},{\"id\":\"1093\"},{\"id\":\"1129\"},{\"id\":\"1164\"}]},\"id\":\"1165\",\"type\":\"Tabs\"},{\"attributes\":{},\"id\":\"1074\",\"type\":\"LinearScale\"},{\"attributes\":{\"source\":{\"id\":\"1022\"}},\"id\":\"1027\",\"type\":\"CDSView\"},{\"attributes\":{\"child\":{\"id\":\"1163\"},\"title\":\"Dendrogram\"},\"id\":\"1164\",\"type\":\"Panel\"},{\"attributes\":{\"bottom\":{\"expr\":{\"id\":\"1018\"}},\"fill_color\":{\"value\":\"#1f77b4\"},\"line_color\":{\"value\":\"#1f77b4\"},\"top\":{\"expr\":{\"id\":\"1019\"}},\"width\":{\"value\":0.9},\"x\":{\"field\":\"index\"}},\"id\":\"1024\",\"type\":\"VBar\"},{\"attributes\":{\"text\":\"\"},\"id\":\"1168\",\"type\":\"Title\"},{\"attributes\":{},\"id\":\"1188\",\"type\":\"UnionRenderers\"},{\"attributes\":{},\"id\":\"1077\",\"type\":\"CategoricalTicker\"},{\"attributes\":{\"ticks\":[5,15,25,35,45,55,65,75,85,95,105,115,125,135,145,155,165,175,185,195,205,215,225,235,245,255]},\"id\":\"1161\",\"type\":\"FixedTicker\"},{\"attributes\":{},\"id\":\"1178\",\"type\":\"BasicTickFormatter\"},{\"attributes\":{\"data_source\":{\"id\":\"1153\"},\"glyph\":{\"id\":\"1155\"},\"hover_glyph\":null,\"muted_glyph\":null,\"nonselection_glyph\":{\"id\":\"1156\"},\"selection_glyph\":null,\"view\":{\"id\":\"1158\"}},\"id\":\"1157\",\"type\":\"GlyphRenderer\"},{\"attributes\":{\"line_color\":{\"value\":\"#8073ac\"},\"xs\":{\"field\":\"x\"},\"ys\":{\"field\":\"y\"}},\"id\":\"1155\",\"type\":\"MultiLine\"},{\"attributes\":{},\"id\":\"1011\",\"type\":\"CategoricalTicker\"},{\"attributes\":{\"text\":\"\"},\"id\":\"1170\",\"type\":\"Title\"},{\"attributes\":{},\"id\":\"1192\",\"type\":\"UnionRenderers\"},{\"attributes\":{\"data\":{\"column\":[\"id\",\"id\",\"id\",\"id\",\"id\",\"id\",\"id\",\"id\",\"id\",\"id\",\"id\",\"id\",\"id\",\"id\",\"id\",\"id\",\"id\",\"id\",\"id\",\"id\",\"id\",\"id\",\"id\",\"id\",\"id\",\"id\",\"id\",\"id\",\"id\",\"id\",\"id\",\"age\",\"age\",\"age\",\"age\",\"age\",\"age\",\"age\",\"age\",\"age\",\"age\",\"age\",\"age\",\"age\",\"age\",\"age\",\"age\",\"age\",\"age\",\"age\",\"age\",\"age\",\"age\",\"age\",\"age\",\"age\",\"age\",\"age\",\"age\",\"age\",\"age\",\"age\",\"bp\",\"bp\",\"bp\",\"bp\",\"bp\",\"bp\",\"bp\",\"bp\",\"bp\",\"bp\",\"bp\",\"bp\",\"bp\",\"bp\",\"bp\",\"bp\",\"bp\",\"bp\",\"bp\",\"bp\",\"bp\",\"bp\",\"bp\",\"bp\",\"bp\",\"bp\",\"bp\",\"bp\",\"bp\",\"bp\",\"bp\",\"sg\",\"sg\",\"sg\",\"sg\",\"sg\",\"sg\",\"sg\",\"sg\",\"sg\",\"sg\",\"sg\",\"sg\",\"sg\",\"sg\",\"sg\",\"sg\",\"sg\",\"sg\",\"sg\",\"sg\",\"sg\",\"sg\",\"sg\",\"sg\",\"sg\",\"sg\",\"sg\",\"sg\",\"sg\",\"sg\",\"sg\",\"al\",\"al\",\"al\",\"al\",\"al\",\"al\",\"al\",\"al\",\"al\",\"al\",\"al\",\"al\",\"al\",\"al\",\"al\",\"al\",\"al\",\"al\",\"al\",\"al\",\"al\",\"al\",\"al\",\"al\",\"al\",\"al\",\"al\",\"al\",\"al\",\"al\",\"al\",\"su\",\"su\",\"su\",\"su\",\"su\",\"su\",\"su\",\"su\",\"su\",\"su\",\"su\",\"su\",\"su\",\"su\",\"su\",\"su\",\"su\",\"su\",\"su\",\"su\",\"su\",\"su\",\"su\",\"su\",\"su\",\"su\",\"su\",\"su\",\"su\",\"su\",\"su\",\"rbc\",\"rbc\",\"rbc\",\"rbc\",\"rbc\",\"rbc\",\"rbc\",\"rbc\",\"rbc\",\"rbc\",\"rbc\",\"rbc\",\"rbc\",\"rbc\",\"rbc\",\"rbc\",\"rbc\",\"rbc\",\"rbc\",\"rbc\",\"rbc\",\"rbc\",\"rbc\",\"rbc\",\"rbc\",\"rbc\",\"rbc\",\"rbc\",\"rbc\",\"rbc\",\"rbc\",\"pc\",\"pc\",\"pc\",\"pc\",\"pc\",\"pc\",\"pc\",\"pc\",\"pc\",\"pc\",\"pc\",\"pc\",\"pc\",\"pc\",\"pc\",\"pc\",\"pc\",\"pc\",\"pc\",\"pc\",\"pc\",\"pc\",\"pc\",\"pc\",\"pc\",\"pc\",\"pc\",\"pc\",\"pc\",\"pc\",\"pc\",\"pcc\",\"pcc\",\"pcc\",\"pcc\",\"pcc\",\"pcc\",\"pcc\",\"pcc\",\"pcc\",\"pcc\",\"pcc\",\"pcc\",\"pcc\",\"pcc\",\"pcc\",\"pcc\",\"pcc\",\"pcc\",\"pcc\",\"pcc\",\"pcc\",\"pcc\",\"pcc\",\"pcc\",\"pcc\",\"pcc\",\"pcc\",\"pcc\",\"pcc\",\"pcc\",\"pcc\",\"ba\",\"ba\",\"ba\",\"ba\",\"ba\",\"ba\",\"ba\",\"ba\",\"ba\",\"ba\",\"ba\",\"ba\",\"ba\",\"ba\",\"ba\",\"ba\",\"ba\",\"ba\",\"ba\",\"ba\",\"ba\",\"ba\",\"ba\",\"ba\",\"ba\",\"ba\",\"ba\",\"ba\",\"ba\",\"ba\",\"ba\",\"bgr\",\"bgr\",\"bgr\",\"bgr\",\"bgr\",\"bgr\",\"bgr\",\"bgr\",\"bgr\",\"bgr\",\"bgr\",\"bgr\",\"bgr\",\"bgr\",\"bgr\",\"bgr\",\"bgr\",\"bgr\",\"bgr\",\"bgr\",\"bgr\",\"bgr\",\"bgr\",\"bgr\",\"bgr\",\"bgr\",\"bgr\",\"bgr\",\"bgr\",\"bgr\",\"bgr\",\"bu\",\"bu\",\"bu\",\"bu\",\"bu\",\"bu\",\"bu\",\"bu\",\"bu\",\"bu\",\"bu\",\"bu\",\"bu\",\"bu\",\"bu\",\"bu\",\"bu\",\"bu\",\"bu\",\"bu\",\"bu\",\"bu\",\"bu\",\"bu\",\"bu\",\"bu\",\"bu\",\"bu\",\"bu\",\"bu\",\"bu\",\"sc\",\"sc\",\"sc\",\"sc\",\"sc\",\"sc\",\"sc\",\"sc\",\"sc\",\"sc\",\"sc\",\"sc\",\"sc\",\"sc\",\"sc\",\"sc\",\"sc\",\"sc\",\"sc\",\"sc\",\"sc\",\"sc\",\"sc\",\"sc\",\"sc\",\"sc\",\"sc\",\"sc\",\"sc\",\"sc\",\"sc\",\"sod\",\"sod\",\"sod\",\"sod\",\"sod\",\"sod\",\"sod\",\"sod\",\"sod\",\"sod\",\"sod\",\"sod\",\"sod\",\"sod\",\"sod\",\"sod\",\"sod\",\"sod\",\"sod\",\"sod\",\"sod\",\"sod\",\"sod\",\"sod\",\"sod\",\"sod\",\"sod\",\"sod\",\"sod\",\"sod\",\"sod\",\"pot\",\"pot\",\"pot\",\"pot\",\"pot\",\"pot\",\"pot\",\"pot\",\"pot\",\"pot\",\"pot\",\"pot\",\"pot\",\"pot\",\"pot\",\"pot\",\"pot\",\"pot\",\"pot\",\"pot\",\"pot\",\"pot\",\"pot\",\"pot\",\"pot\",\"pot\",\"pot\",\"pot\",\"pot\",\"pot\",\"pot\",\"hemo\",\"hemo\",\"hemo\",\"hemo\",\"hemo\",\"hemo\",\"hemo\",\"hemo\",\"hemo\",\"hemo\",\"hemo\",\"hemo\",\"hemo\",\"hemo\",\"hemo\",\"hemo\",\"hemo\",\"hemo\",\"hemo\",\"hemo\",\"hemo\",\"hemo\",\"hemo\",\"hemo\",\"hemo\",\"hemo\",\"hemo\",\"hemo\",\"hemo\",\"hemo\",\"hemo\",\"pcv\",\"pcv\",\"pcv\",\"pcv\",\"pcv\",\"pcv\",\"pcv\",\"pcv\",\"pcv\",\"pcv\",\"pcv\",\"pcv\",\"pcv\",\"pcv\",\"pcv\",\"pcv\",\"pcv\",\"pcv\",\"pcv\",\"pcv\",\"pcv\",\"pcv\",\"pcv\",\"pcv\",\"pcv\",\"pcv\",\"pcv\",\"pcv\",\"pcv\",\"pcv\",\"pcv\",\"wc\",\"wc\",\"wc\",\"wc\",\"wc\",\"wc\",\"wc\",\"wc\",\"wc\",\"wc\",\"wc\",\"wc\",\"wc\",\"wc\",\"wc\",\"wc\",\"wc\",\"wc\",\"wc\",\"wc\",\"wc\",\"wc\",\"wc\",\"wc\",\"wc\",\"wc\",\"wc\",\"wc\",\"wc\",\"wc\",\"wc\",\"rc\",\"rc\",\"rc\",\"rc\",\"rc\",\"rc\",\"rc\",\"rc\",\"rc\",\"rc\",\"rc\",\"rc\",\"rc\",\"rc\",\"rc\",\"rc\",\"rc\",\"rc\",\"rc\",\"rc\",\"rc\",\"rc\",\"rc\",\"rc\",\"rc\",\"rc\",\"rc\",\"rc\",\"rc\",\"rc\",\"rc\",\"htn\",\"htn\",\"htn\",\"htn\",\"htn\",\"htn\",\"htn\",\"htn\",\"htn\",\"htn\",\"htn\",\"htn\",\"htn\",\"htn\",\"htn\",\"htn\",\"htn\",\"htn\",\"htn\",\"htn\",\"htn\",\"htn\",\"htn\",\"htn\",\"htn\",\"htn\",\"htn\",\"htn\",\"htn\",\"htn\",\"htn\",\"dm\",\"dm\",\"dm\",\"dm\",\"dm\",\"dm\",\"dm\",\"dm\",\"dm\",\"dm\",\"dm\",\"dm\",\"dm\",\"dm\",\"dm\",\"dm\",\"dm\",\"dm\",\"dm\",\"dm\",\"dm\",\"dm\",\"dm\",\"dm\",\"dm\",\"dm\",\"dm\",\"dm\",\"dm\",\"dm\",\"dm\",\"cad\",\"cad\",\"cad\",\"cad\",\"cad\",\"cad\",\"cad\",\"cad\",\"cad\",\"cad\",\"cad\",\"cad\",\"cad\",\"cad\",\"cad\",\"cad\",\"cad\",\"cad\",\"cad\",\"cad\",\"cad\",\"cad\",\"cad\",\"cad\",\"cad\",\"cad\",\"cad\",\"cad\",\"cad\",\"cad\",\"cad\",\"appet\",\"appet\",\"appet\",\"appet\",\"appet\",\"appet\",\"appet\",\"appet\",\"appet\",\"appet\",\"appet\",\"appet\",\"appet\",\"appet\",\"appet\",\"appet\",\"appet\",\"appet\",\"appet\",\"appet\",\"appet\",\"appet\",\"appet\",\"appet\",\"appet\",\"appet\",\"appet\",\"appet\",\"appet\",\"appet\",\"appet\",\"pe\",\"pe\",\"pe\",\"pe\",\"pe\",\"pe\",\"pe\",\"pe\",\"pe\",\"pe\",\"pe\",\"pe\",\"pe\",\"pe\",\"pe\",\"pe\",\"pe\",\"pe\",\"pe\",\"pe\",\"pe\",\"pe\",\"pe\",\"pe\",\"pe\",\"pe\",\"pe\",\"pe\",\"pe\",\"pe\",\"pe\",\"ane\",\"ane\",\"ane\",\"ane\",\"ane\",\"ane\",\"ane\",\"ane\",\"ane\",\"ane\",\"ane\",\"ane\",\"ane\",\"ane\",\"ane\",\"ane\",\"ane\",\"ane\",\"ane\",\"ane\",\"ane\",\"ane\",\"ane\",\"ane\",\"ane\",\"ane\",\"ane\",\"ane\",\"ane\",\"ane\",\"ane\",\"classification\",\"classification\",\"classification\",\"classification\",\"classification\",\"classification\",\"classification\",\"classification\",\"classification\",\"classification\",\"classification\",\"classification\",\"classification\",\"classification\",\"classification\",\"classification\",\"classification\",\"classification\",\"classification\",\"classification\",\"classification\",\"classification\",\"classification\",\"classification\",\"classification\",\"classification\",\"classification\",\"classification\",\"classification\",\"classification\",\"classification\"],\"column_with_perc\":[\"id\",\"id\",\"id\",\"id\",\"id\",\"id\",\"id\",\"id\",\"id\",\"id\",\"id\",\"id\",\"id\",\"id\",\"id\",\"id\",\"id\",\"id\",\"id\",\"id\",\"id\",\"id\",\"id\",\"id\",\"id\",\"id\",\"id\",\"id\",\"id\",\"id\",\"id\",\"age (2.2%)\",\"age (2.2%)\",\"age (2.2%)\",\"age (2.2%)\",\"age (2.2%)\",\"age (2.2%)\",\"age (2.2%)\",\"age (2.2%)\",\"age (2.2%)\",\"age (2.2%)\",\"age (2.2%)\",\"age (2.2%)\",\"age (2.2%)\",\"age (2.2%)\",\"age (2.2%)\",\"age (2.2%)\",\"age (2.2%)\",\"age (2.2%)\",\"age (2.2%)\",\"age (2.2%)\",\"age (2.2%)\",\"age (2.2%)\",\"age (2.2%)\",\"age (2.2%)\",\"age (2.2%)\",\"age (2.2%)\",\"age (2.2%)\",\"age (2.2%)\",\"age (2.2%)\",\"age (2.2%)\",\"age (2.2%)\",\"bp (3.0%)\",\"bp (3.0%)\",\"bp (3.0%)\",\"bp (3.0%)\",\"bp (3.0%)\",\"bp (3.0%)\",\"bp (3.0%)\",\"bp (3.0%)\",\"bp (3.0%)\",\"bp (3.0%)\",\"bp (3.0%)\",\"bp (3.0%)\",\"bp (3.0%)\",\"bp (3.0%)\",\"bp (3.0%)\",\"bp (3.0%)\",\"bp (3.0%)\",\"bp (3.0%)\",\"bp (3.0%)\",\"bp (3.0%)\",\"bp (3.0%)\",\"bp (3.0%)\",\"bp (3.0%)\",\"bp (3.0%)\",\"bp (3.0%)\",\"bp (3.0%)\",\"bp (3.0%)\",\"bp (3.0%)\",\"bp (3.0%)\",\"bp (3.0%)\",\"bp (3.0%)\",\"sg (11.8%)\",\"sg (11.8%)\",\"sg (11.8%)\",\"sg (11.8%)\",\"sg (11.8%)\",\"sg (11.8%)\",\"sg (11.8%)\",\"sg (11.8%)\",\"sg (11.8%)\",\"sg (11.8%)\",\"sg (11.8%)\",\"sg (11.8%)\",\"sg (11.8%)\",\"sg (11.8%)\",\"sg (11.8%)\",\"sg (11.8%)\",\"sg (11.8%)\",\"sg (11.8%)\",\"sg (11.8%)\",\"sg (11.8%)\",\"sg (11.8%)\",\"sg (11.8%)\",\"sg (11.8%)\",\"sg (11.8%)\",\"sg (11.8%)\",\"sg (11.8%)\",\"sg (11.8%)\",\"sg (11.8%)\",\"sg (11.8%)\",\"sg (11.8%)\",\"sg (11.8%)\",\"al (11.5%)\",\"al (11.5%)\",\"al (11.5%)\",\"al (11.5%)\",\"al (11.5%)\",\"al (11.5%)\",\"al (11.5%)\",\"al (11.5%)\",\"al (11.5%)\",\"al (11.5%)\",\"al (11.5%)\",\"al (11.5%)\",\"al (11.5%)\",\"al (11.5%)\",\"al (11.5%)\",\"al (11.5%)\",\"al (11.5%)\",\"al (11.5%)\",\"al (11.5%)\",\"al (11.5%)\",\"al (11.5%)\",\"al (11.5%)\",\"al (11.5%)\",\"al (11.5%)\",\"al (11.5%)\",\"al (11.5%)\",\"al (11.5%)\",\"al (11.5%)\",\"al (11.5%)\",\"al (11.5%)\",\"al (11.5%)\",\"su (12.2%)\",\"su (12.2%)\",\"su (12.2%)\",\"su (12.2%)\",\"su (12.2%)\",\"su (12.2%)\",\"su (12.2%)\",\"su (12.2%)\",\"su (12.2%)\",\"su (12.2%)\",\"su (12.2%)\",\"su (12.2%)\",\"su (12.2%)\",\"su (12.2%)\",\"su (12.2%)\",\"su (12.2%)\",\"su (12.2%)\",\"su (12.2%)\",\"su (12.2%)\",\"su (12.2%)\",\"su (12.2%)\",\"su (12.2%)\",\"su (12.2%)\",\"su (12.2%)\",\"su (12.2%)\",\"su (12.2%)\",\"su (12.2%)\",\"su (12.2%)\",\"su (12.2%)\",\"su (12.2%)\",\"su (12.2%)\",\"rbc (38.0%)\",\"rbc (38.0%)\",\"rbc (38.0%)\",\"rbc (38.0%)\",\"rbc (38.0%)\",\"rbc (38.0%)\",\"rbc (38.0%)\",\"rbc (38.0%)\",\"rbc (38.0%)\",\"rbc (38.0%)\",\"rbc (38.0%)\",\"rbc (38.0%)\",\"rbc (38.0%)\",\"rbc (38.0%)\",\"rbc (38.0%)\",\"rbc (38.0%)\",\"rbc (38.0%)\",\"rbc (38.0%)\",\"rbc (38.0%)\",\"rbc (38.0%)\",\"rbc (38.0%)\",\"rbc (38.0%)\",\"rbc (38.0%)\",\"rbc (38.0%)\",\"rbc (38.0%)\",\"rbc (38.0%)\",\"rbc (38.0%)\",\"rbc (38.0%)\",\"rbc (38.0%)\",\"rbc (38.0%)\",\"rbc (38.0%)\",\"pc (16.2%)\",\"pc (16.2%)\",\"pc (16.2%)\",\"pc (16.2%)\",\"pc (16.2%)\",\"pc (16.2%)\",\"pc (16.2%)\",\"pc (16.2%)\",\"pc (16.2%)\",\"pc (16.2%)\",\"pc (16.2%)\",\"pc (16.2%)\",\"pc (16.2%)\",\"pc (16.2%)\",\"pc (16.2%)\",\"pc (16.2%)\",\"pc (16.2%)\",\"pc (16.2%)\",\"pc (16.2%)\",\"pc (16.2%)\",\"pc (16.2%)\",\"pc (16.2%)\",\"pc (16.2%)\",\"pc (16.2%)\",\"pc (16.2%)\",\"pc (16.2%)\",\"pc (16.2%)\",\"pc (16.2%)\",\"pc (16.2%)\",\"pc (16.2%)\",\"pc (16.2%)\",\"pcc (1.0%)\",\"pcc (1.0%)\",\"pcc (1.0%)\",\"pcc (1.0%)\",\"pcc (1.0%)\",\"pcc (1.0%)\",\"pcc (1.0%)\",\"pcc (1.0%)\",\"pcc (1.0%)\",\"pcc (1.0%)\",\"pcc (1.0%)\",\"pcc (1.0%)\",\"pcc (1.0%)\",\"pcc (1.0%)\",\"pcc (1.0%)\",\"pcc (1.0%)\",\"pcc (1.0%)\",\"pcc (1.0%)\",\"pcc (1.0%)\",\"pcc (1.0%)\",\"pcc (1.0%)\",\"pcc (1.0%)\",\"pcc (1.0%)\",\"pcc (1.0%)\",\"pcc (1.0%)\",\"pcc (1.0%)\",\"pcc (1.0%)\",\"pcc (1.0%)\",\"pcc (1.0%)\",\"pcc (1.0%)\",\"pcc (1.0%)\",\"ba (1.0%)\",\"ba (1.0%)\",\"ba (1.0%)\",\"ba (1.0%)\",\"ba (1.0%)\",\"ba (1.0%)\",\"ba (1.0%)\",\"ba (1.0%)\",\"ba (1.0%)\",\"ba (1.0%)\",\"ba (1.0%)\",\"ba (1.0%)\",\"ba (1.0%)\",\"ba (1.0%)\",\"ba (1.0%)\",\"ba (1.0%)\",\"ba (1.0%)\",\"ba (1.0%)\",\"ba (1.0%)\",\"ba (1.0%)\",\"ba (1.0%)\",\"ba (1.0%)\",\"ba (1.0%)\",\"ba (1.0%)\",\"ba (1.0%)\",\"ba (1.0%)\",\"ba (1.0%)\",\"ba (1.0%)\",\"ba (1.0%)\",\"ba (1.0%)\",\"ba (1.0%)\",\"bgr (11.0%)\",\"bgr (11.0%)\",\"bgr (11.0%)\",\"bgr (11.0%)\",\"bgr (11.0%)\",\"bgr (11.0%)\",\"bgr (11.0%)\",\"bgr (11.0%)\",\"bgr (11.0%)\",\"bgr (11.0%)\",\"bgr (11.0%)\",\"bgr (11.0%)\",\"bgr (11.0%)\",\"bgr (11.0%)\",\"bgr (11.0%)\",\"bgr (11.0%)\",\"bgr (11.0%)\",\"bgr (11.0%)\",\"bgr (11.0%)\",\"bgr (11.0%)\",\"bgr (11.0%)\",\"bgr (11.0%)\",\"bgr (11.0%)\",\"bgr (11.0%)\",\"bgr (11.0%)\",\"bgr (11.0%)\",\"bgr (11.0%)\",\"bgr (11.0%)\",\"bgr (11.0%)\",\"bgr (11.0%)\",\"bgr (11.0%)\",\"bu (4.8%)\",\"bu (4.8%)\",\"bu (4.8%)\",\"bu (4.8%)\",\"bu (4.8%)\",\"bu (4.8%)\",\"bu (4.8%)\",\"bu (4.8%)\",\"bu (4.8%)\",\"bu (4.8%)\",\"bu (4.8%)\",\"bu (4.8%)\",\"bu (4.8%)\",\"bu (4.8%)\",\"bu (4.8%)\",\"bu (4.8%)\",\"bu (4.8%)\",\"bu (4.8%)\",\"bu (4.8%)\",\"bu (4.8%)\",\"bu (4.8%)\",\"bu (4.8%)\",\"bu (4.8%)\",\"bu (4.8%)\",\"bu (4.8%)\",\"bu (4.8%)\",\"bu (4.8%)\",\"bu (4.8%)\",\"bu (4.8%)\",\"bu (4.8%)\",\"bu (4.8%)\",\"sc (4.2%)\",\"sc (4.2%)\",\"sc (4.2%)\",\"sc (4.2%)\",\"sc (4.2%)\",\"sc (4.2%)\",\"sc (4.2%)\",\"sc (4.2%)\",\"sc (4.2%)\",\"sc (4.2%)\",\"sc (4.2%)\",\"sc (4.2%)\",\"sc (4.2%)\",\"sc (4.2%)\",\"sc (4.2%)\",\"sc (4.2%)\",\"sc (4.2%)\",\"sc (4.2%)\",\"sc (4.2%)\",\"sc (4.2%)\",\"sc (4.2%)\",\"sc (4.2%)\",\"sc (4.2%)\",\"sc (4.2%)\",\"sc (4.2%)\",\"sc (4.2%)\",\"sc (4.2%)\",\"sc (4.2%)\",\"sc (4.2%)\",\"sc (4.2%)\",\"sc (4.2%)\",\"sod (21.8%)\",\"sod (21.8%)\",\"sod (21.8%)\",\"sod (21.8%)\",\"sod (21.8%)\",\"sod (21.8%)\",\"sod (21.8%)\",\"sod (21.8%)\",\"sod (21.8%)\",\"sod (21.8%)\",\"sod (21.8%)\",\"sod (21.8%)\",\"sod (21.8%)\",\"sod (21.8%)\",\"sod (21.8%)\",\"sod (21.8%)\",\"sod (21.8%)\",\"sod (21.8%)\",\"sod (21.8%)\",\"sod (21.8%)\",\"sod (21.8%)\",\"sod (21.8%)\",\"sod (21.8%)\",\"sod (21.8%)\",\"sod (21.8%)\",\"sod (21.8%)\",\"sod (21.8%)\",\"sod (21.8%)\",\"sod (21.8%)\",\"sod (21.8%)\",\"sod (21.8%)\",\"pot (22.0%)\",\"pot (22.0%)\",\"pot (22.0%)\",\"pot (22.0%)\",\"pot (22.0%)\",\"pot (22.0%)\",\"pot (22.0%)\",\"pot (22.0%)\",\"pot (22.0%)\",\"pot (22.0%)\",\"pot (22.0%)\",\"pot (22.0%)\",\"pot (22.0%)\",\"pot (22.0%)\",\"pot (22.0%)\",\"pot (22.0%)\",\"pot (22.0%)\",\"pot (22.0%)\",\"pot (22.0%)\",\"pot (22.0%)\",\"pot (22.0%)\",\"pot (22.0%)\",\"pot (22.0%)\",\"pot (22.0%)\",\"pot (22.0%)\",\"pot (22.0%)\",\"pot (22.0%)\",\"pot (22.0%)\",\"pot (22.0%)\",\"pot (22.0%)\",\"pot (22.0%)\",\"hemo (13.0%)\",\"hemo (13.0%)\",\"hemo (13.0%)\",\"hemo (13.0%)\",\"hemo (13.0%)\",\"hemo (13.0%)\",\"hemo (13.0%)\",\"hemo (13.0%)\",\"hemo (13.0%)\",\"hemo (13.0%)\",\"hemo (13.0%)\",\"hemo (13.0%)\",\"hemo (13.0%)\",\"hemo (13.0%)\",\"hemo (13.0%)\",\"hemo (13.0%)\",\"hemo (13.0%)\",\"hemo (13.0%)\",\"hemo (13.0%)\",\"hemo (13.0%)\",\"hemo (13.0%)\",\"hemo (13.0%)\",\"hemo (13.0%)\",\"hemo (13.0%)\",\"hemo (13.0%)\",\"hemo (13.0%)\",\"hemo (13.0%)\",\"hemo (13.0%)\",\"hemo (13.0%)\",\"hemo (13.0%)\",\"hemo (13.0%)\",\"pcv (17.5%)\",\"pcv (17.5%)\",\"pcv (17.5%)\",\"pcv (17.5%)\",\"pcv (17.5%)\",\"pcv (17.5%)\",\"pcv (17.5%)\",\"pcv (17.5%)\",\"pcv (17.5%)\",\"pcv (17.5%)\",\"pcv (17.5%)\",\"pcv (17.5%)\",\"pcv (17.5%)\",\"pcv (17.5%)\",\"pcv (17.5%)\",\"pcv (17.5%)\",\"pcv (17.5%)\",\"pcv (17.5%)\",\"pcv (17.5%)\",\"pcv (17.5%)\",\"pcv (17.5%)\",\"pcv (17.5%)\",\"pcv (17.5%)\",\"pcv (17.5%)\",\"pcv (17.5%)\",\"pcv (17.5%)\",\"pcv (17.5%)\",\"pcv (17.5%)\",\"pcv (17.5%)\",\"pcv (17.5%)\",\"pcv (17.5%)\",\"wc (26.2%)\",\"wc (26.2%)\",\"wc (26.2%)\",\"wc (26.2%)\",\"wc (26.2%)\",\"wc (26.2%)\",\"wc (26.2%)\",\"wc (26.2%)\",\"wc (26.2%)\",\"wc (26.2%)\",\"wc (26.2%)\",\"wc (26.2%)\",\"wc (26.2%)\",\"wc (26.2%)\",\"wc (26.2%)\",\"wc (26.2%)\",\"wc (26.2%)\",\"wc (26.2%)\",\"wc (26.2%)\",\"wc (26.2%)\",\"wc (26.2%)\",\"wc (26.2%)\",\"wc (26.2%)\",\"wc (26.2%)\",\"wc (26.2%)\",\"wc (26.2%)\",\"wc (26.2%)\",\"wc (26.2%)\",\"wc (26.2%)\",\"wc (26.2%)\",\"wc (26.2%)\",\"rc (32.5%)\",\"rc (32.5%)\",\"rc (32.5%)\",\"rc (32.5%)\",\"rc (32.5%)\",\"rc (32.5%)\",\"rc (32.5%)\",\"rc (32.5%)\",\"rc (32.5%)\",\"rc (32.5%)\",\"rc (32.5%)\",\"rc (32.5%)\",\"rc (32.5%)\",\"rc (32.5%)\",\"rc (32.5%)\",\"rc (32.5%)\",\"rc (32.5%)\",\"rc (32.5%)\",\"rc (32.5%)\",\"rc (32.5%)\",\"rc (32.5%)\",\"rc (32.5%)\",\"rc (32.5%)\",\"rc (32.5%)\",\"rc (32.5%)\",\"rc (32.5%)\",\"rc (32.5%)\",\"rc (32.5%)\",\"rc (32.5%)\",\"rc (32.5%)\",\"rc (32.5%)\",\"htn (0.5%)\",\"htn (0.5%)\",\"htn (0.5%)\",\"htn (0.5%)\",\"htn (0.5%)\",\"htn (0.5%)\",\"htn (0.5%)\",\"htn (0.5%)\",\"htn (0.5%)\",\"htn (0.5%)\",\"htn (0.5%)\",\"htn (0.5%)\",\"htn (0.5%)\",\"htn (0.5%)\",\"htn (0.5%)\",\"htn (0.5%)\",\"htn (0.5%)\",\"htn (0.5%)\",\"htn (0.5%)\",\"htn (0.5%)\",\"htn (0.5%)\",\"htn (0.5%)\",\"htn (0.5%)\",\"htn (0.5%)\",\"htn (0.5%)\",\"htn (0.5%)\",\"htn (0.5%)\",\"htn (0.5%)\",\"htn (0.5%)\",\"htn (0.5%)\",\"htn (0.5%)\",\"dm (0.5%)\",\"dm (0.5%)\",\"dm (0.5%)\",\"dm (0.5%)\",\"dm (0.5%)\",\"dm (0.5%)\",\"dm (0.5%)\",\"dm (0.5%)\",\"dm (0.5%)\",\"dm (0.5%)\",\"dm (0.5%)\",\"dm (0.5%)\",\"dm (0.5%)\",\"dm (0.5%)\",\"dm (0.5%)\",\"dm (0.5%)\",\"dm (0.5%)\",\"dm (0.5%)\",\"dm (0.5%)\",\"dm (0.5%)\",\"dm (0.5%)\",\"dm (0.5%)\",\"dm (0.5%)\",\"dm (0.5%)\",\"dm (0.5%)\",\"dm (0.5%)\",\"dm (0.5%)\",\"dm (0.5%)\",\"dm (0.5%)\",\"dm (0.5%)\",\"dm (0.5%)\",\"cad (0.5%)\",\"cad (0.5%)\",\"cad (0.5%)\",\"cad (0.5%)\",\"cad (0.5%)\",\"cad (0.5%)\",\"cad (0.5%)\",\"cad (0.5%)\",\"cad (0.5%)\",\"cad (0.5%)\",\"cad (0.5%)\",\"cad (0.5%)\",\"cad (0.5%)\",\"cad (0.5%)\",\"cad (0.5%)\",\"cad (0.5%)\",\"cad (0.5%)\",\"cad (0.5%)\",\"cad (0.5%)\",\"cad (0.5%)\",\"cad (0.5%)\",\"cad (0.5%)\",\"cad (0.5%)\",\"cad (0.5%)\",\"cad (0.5%)\",\"cad (0.5%)\",\"cad (0.5%)\",\"cad (0.5%)\",\"cad (0.5%)\",\"cad (0.5%)\",\"cad (0.5%)\",\"appet (0.2%)\",\"appet (0.2%)\",\"appet (0.2%)\",\"appet (0.2%)\",\"appet (0.2%)\",\"appet (0.2%)\",\"appet (0.2%)\",\"appet (0.2%)\",\"appet (0.2%)\",\"appet (0.2%)\",\"appet (0.2%)\",\"appet (0.2%)\",\"appet (0.2%)\",\"appet (0.2%)\",\"appet (0.2%)\",\"appet (0.2%)\",\"appet (0.2%)\",\"appet (0.2%)\",\"appet (0.2%)\",\"appet (0.2%)\",\"appet (0.2%)\",\"appet (0.2%)\",\"appet (0.2%)\",\"appet (0.2%)\",\"appet (0.2%)\",\"appet (0.2%)\",\"appet (0.2%)\",\"appet (0.2%)\",\"appet (0.2%)\",\"appet (0.2%)\",\"appet (0.2%)\",\"pe (0.2%)\",\"pe (0.2%)\",\"pe (0.2%)\",\"pe (0.2%)\",\"pe (0.2%)\",\"pe (0.2%)\",\"pe (0.2%)\",\"pe (0.2%)\",\"pe (0.2%)\",\"pe (0.2%)\",\"pe (0.2%)\",\"pe (0.2%)\",\"pe (0.2%)\",\"pe (0.2%)\",\"pe (0.2%)\",\"pe (0.2%)\",\"pe (0.2%)\",\"pe (0.2%)\",\"pe (0.2%)\",\"pe (0.2%)\",\"pe (0.2%)\",\"pe (0.2%)\",\"pe (0.2%)\",\"pe (0.2%)\",\"pe (0.2%)\",\"pe (0.2%)\",\"pe (0.2%)\",\"pe (0.2%)\",\"pe (0.2%)\",\"pe (0.2%)\",\"pe (0.2%)\",\"ane (0.2%)\",\"ane (0.2%)\",\"ane (0.2%)\",\"ane (0.2%)\",\"ane (0.2%)\",\"ane (0.2%)\",\"ane (0.2%)\",\"ane (0.2%)\",\"ane (0.2%)\",\"ane (0.2%)\",\"ane (0.2%)\",\"ane (0.2%)\",\"ane (0.2%)\",\"ane (0.2%)\",\"ane (0.2%)\",\"ane (0.2%)\",\"ane (0.2%)\",\"ane (0.2%)\",\"ane (0.2%)\",\"ane (0.2%)\",\"ane (0.2%)\",\"ane (0.2%)\",\"ane (0.2%)\",\"ane (0.2%)\",\"ane (0.2%)\",\"ane (0.2%)\",\"ane (0.2%)\",\"ane (0.2%)\",\"ane (0.2%)\",\"ane (0.2%)\",\"ane (0.2%)\",\"classificati...\",\"classificati...\",\"classificati...\",\"classificati...\",\"classificati...\",\"classificati...\",\"classificati...\",\"classificati...\",\"classificati...\",\"classificati...\",\"classificati...\",\"classificati...\",\"classificati...\",\"classificati...\",\"classificati...\",\"classificati...\",\"classificati...\",\"classificati...\",\"classificati...\",\"classificati...\",\"classificati...\",\"classificati...\",\"classificati...\",\"classificati...\",\"classificati...\",\"classificati...\",\"classificati...\",\"classificati...\",\"classificati...\",\"classificati...\",\"classificati...\"],\"index\":[0,1,2,3,4,5,6,7,8,9,10,11,12,13,14,15,16,17,18,19,20,21,22,23,24,25,26,27,28,29,30,31,32,33,34,35,36,37,38,39,40,41,42,43,44,45,46,47,48,49,50,51,52,53,54,55,56,57,58,59,60,61,62,63,64,65,66,67,68,69,70,71,72,73,74,75,76,77,78,79,80,81,82,83,84,85,86,87,88,89,90,91,92,93,94,95,96,97,98,99,100,101,102,103,104,105,106,107,108,109,110,111,112,113,114,115,116,117,118,119,120,121,122,123,124,125,126,127,128,129,130,131,132,133,134,135,136,137,138,139,140,141,142,143,144,145,146,147,148,149,150,151,152,153,154,155,156,157,158,159,160,161,162,163,164,165,166,167,168,169,170,171,172,173,174,175,176,177,178,179,180,181,182,183,184,185,186,187,188,189,190,191,192,193,194,195,196,197,198,199,200,201,202,203,204,205,206,207,208,209,210,211,212,213,214,215,216,217,218,219,220,221,222,223,224,225,226,227,228,229,230,231,232,233,234,235,236,237,238,239,240,241,242,243,244,245,246,247,248,249,250,251,252,253,254,255,256,257,258,259,260,261,262,263,264,265,266,267,268,269,270,271,272,273,274,275,276,277,278,279,280,281,282,283,284,285,286,287,288,289,290,291,292,293,294,295,296,297,298,299,300,301,302,303,304,305,306,307,308,309,310,311,312,313,314,315,316,317,318,319,320,321,322,323,324,325,326,327,328,329,330,331,332,333,334,335,336,337,338,339,340,341,342,343,344,345,346,347,348,349,350,351,352,353,354,355,356,357,358,359,360,361,362,363,364,365,366,367,368,369,370,371,372,373,374,375,376,377,378,379,380,381,382,383,384,385,386,387,388,389,390,391,392,393,394,395,396,397,398,399,400,401,402,403,404,405,406,407,408,409,410,411,412,413,414,415,416,417,418,419,420,421,422,423,424,425,426,427,428,429,430,431,432,433,434,435,436,437,438,439,440,441,442,443,444,445,446,447,448,449,450,451,452,453,454,455,456,457,458,459,460,461,462,463,464,465,466,467,468,469,470,471,472,473,474,475,476,477,478,479,480,481,482,483,484,485,486,487,488,489,490,491,492,493,494,495,496,497,498,499,500,501,502,503,504,505,506,507,508,509,510,511,512,513,514,515,516,517,518,519,520,521,522,523,524,525,526,527,528,529,530,531,532,533,534,535,536,537,538,539,540,541,542,543,544,545,546,547,548,549,550,551,552,553,554,555,556,557,558,559,560,561,562,563,564,565,566,567,568,569,570,571,572,573,574,575,576,577,578,579,580,581,582,583,584,585,586,587,588,589,590,591,592,593,594,595,596,597,598,599,600,601,602,603,604,605,606,607,608,609,610,611,612,613,614,615,616,617,618,619,620,621,622,623,624,625,626,627,628,629,630,631,632,633,634,635,636,637,638,639,640,641,642,643,644,645,646,647,648,649,650,651,652,653,654,655,656,657,658,659,660,661,662,663,664,665,666,667,668,669,670,671,672,673,674,675,676,677,678,679,680,681,682,683,684,685,686,687,688,689,690,691,692,693,694,695,696,697,698,699,700,701,702,703,704,705,706,707,708,709,710,711,712,713,714,715,716,717,718,719,720,721,722,723,724,725,726,727,728,729,730,731,732,733,734,735,736,737,738,739,740,741,742,743,744,745,746,747,748,749,750,751,752,753,754,755,756,757,758,759,760,761,762,763,764,765,766,767,768,769,770,771,772,773,774,775,776,777,778,779,780,781,782,783,784,785,786,787,788,789,790,791,792,793,794,795,796,797,798,799,800,801,802,803,804,805],\"loc_end\":{\"__ndarray__\":\"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\",\"dtype\":\"int32\",\"shape\":[806]},\"loc_start\":{\"__ndarray__\":\"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\",\"dtype\":\"int32\",\"shape\":[806]},\"location\":{\"__ndarray__\":\"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\",\"dtype\":\"float64\",\"shape\":[806]},\"missing_rate\":{\"__ndarray__\":\"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\",\"dtype\":\"float64\",\"shape\":[806]}},\"selected\":{\"id\":\"1191\"},\"selection_policy\":{\"id\":\"1190\"}},\"id\":\"1086\",\"type\":\"ColumnDataSource\"},{\"attributes\":{\"axis_label\":\"Row Count\",\"formatter\":{\"id\":\"1031\"},\"major_label_standoff\":0,\"major_label_text_font_size\":\"9pt\",\"major_tick_line_color\":null,\"ticker\":{\"id\":\"1014\"}},\"id\":\"1013\",\"type\":\"LinearAxis\"},{\"attributes\":{\"source\":{\"id\":\"1153\"}},\"id\":\"1158\",\"type\":\"CDSView\"},{\"attributes\":{\"axis\":{\"id\":\"1076\"},\"grid_line_color\":null,\"ticker\":null},\"id\":\"1078\",\"type\":\"Grid\"},{\"attributes\":{},\"id\":\"1107\",\"type\":\"CategoricalScale\"},{\"attributes\":{},\"id\":\"1193\",\"type\":\"Selection\"},{\"attributes\":{},\"id\":\"1006\",\"type\":\"CategoricalScale\"},{\"attributes\":{\"data_source\":{\"id\":\"1118\"},\"glyph\":{\"id\":\"1120\"},\"hover_glyph\":null,\"muted_glyph\":null,\"nonselection_glyph\":{\"id\":\"1121\"},\"selection_glyph\":null,\"view\":{\"id\":\"1123\"}},\"id\":\"1122\",\"type\":\"GlyphRenderer\"},{\"attributes\":{},\"id\":\"1194\",\"type\":\"UnionRenderers\"},{\"attributes\":{},\"id\":\"1008\",\"type\":\"LinearScale\"},{\"attributes\":{\"factors\":[\"age\",\"al\",\"ane\",\"appet\",\"ba\",\"bgr\",\"bp\",\"bu\",\"cad\",\"classification\",\"dm\",\"hemo\",\"htn\",\"id\",\"pc\",\"pcc\",\"pcv\",\"pe\",\"pot\",\"rbc\",\"rc\",\"sc\",\"sg\",\"sod\",\"su\",\"wc\"]},\"id\":\"1002\",\"type\":\"FactorRange\"},{\"attributes\":{\"color_mapper\":{\"id\":\"1094\"},\"formatter\":{\"id\":\"1096\"},\"label_standoff\":6,\"location\":[0,0],\"major_label_text_font_size\":\"8pt\",\"ticker\":{\"id\":\"1095\"}},\"id\":\"1097\",\"type\":\"ColorBar\"},{\"attributes\":{\"end\":0.0,\"start\":403.0},\"id\":\"1068\",\"type\":\"Range1d\"},{\"attributes\":{},\"id\":\"1195\",\"type\":\"Selection\"},{\"attributes\":{},\"id\":\"1196\",\"type\":\"UnionRenderers\"},{\"attributes\":{},\"id\":\"1185\",\"type\":\"BasicTickFormatter\"},{\"attributes\":{},\"id\":\"1048\",\"type\":\"UnionRenderers\"},{\"attributes\":{},\"id\":\"1113\",\"type\":\"CategoricalTicker\"},{\"attributes\":{\"child\":{\"id\":\"1128\"},\"title\":\"Heatmap\"},\"id\":\"1129\",\"type\":\"Panel\"},{\"attributes\":{\"end\":400},\"id\":\"1004\",\"type\":\"Range1d\"},{\"attributes\":{\"fields\":[]},\"id\":\"1018\",\"type\":\"Stack\"},{\"attributes\":{},\"id\":\"1137\",\"type\":\"LinearScale\"},{\"attributes\":{\"fill_color\":{\"field\":\"correlation\",\"transform\":{\"id\":\"1094\"}},\"height\":{\"units\":\"data\",\"value\":1},\"line_color\":{\"value\":null},\"width\":{\"units\":\"data\",\"value\":1},\"x\":{\"field\":\"x\"},\"y\":{\"field\":\"y\"}},\"id\":\"1120\",\"type\":\"Rect\"},{\"attributes\":{\"children\":[{\"id\":\"1069\"}]},\"id\":\"1092\",\"type\":\"Row\"},{\"attributes\":{\"factors\":[\"age\",\"bp\",\"sg\",\"al\",\"su\",\"rbc\",\"pc\",\"pcc\",\"ba\",\"bgr\",\"bu\",\"sc\",\"sod\",\"pot\",\"hemo\",\"pcv\",\"wc\",\"rc\",\"htn\",\"dm\",\"cad\",\"appet\",\"pe\",\"ane\"]},\"id\":\"1100\",\"type\":\"FactorRange\"},{\"attributes\":{\"data_source\":{\"id\":\"1148\"},\"glyph\":{\"id\":\"1149\"},\"hover_glyph\":null,\"muted_glyph\":null,\"nonselection_glyph\":{\"id\":\"1150\"},\"selection_glyph\":null,\"view\":{\"id\":\"1152\"}},\"id\":\"1151\",\"type\":\"GlyphRenderer\"},{\"attributes\":{\"code\":\"\\n        if (tick.length &gt; 18) return tick.substring(0, 16) + '...';\\n        else return tick;\\n    \"},\"id\":\"1057\",\"type\":\"FuncTickFormatter\"},{\"attributes\":{\"background_fill_color\":\"#fafafa\",\"below\":[{\"id\":\"1109\"}],\"center\":[{\"id\":\"1111\"},{\"id\":\"1114\"}],\"left\":[{\"id\":\"1112\"}],\"plot_height\":500,\"plot_width\":500,\"renderers\":[{\"id\":\"1122\"}],\"right\":[{\"id\":\"1097\"}],\"title\":{\"id\":\"1170\"},\"toolbar\":{\"id\":\"1116\"},\"toolbar_location\":null,\"x_range\":{\"id\":\"1100\"},\"x_scale\":{\"id\":\"1105\"},\"y_range\":{\"id\":\"1101\"},\"y_scale\":{\"id\":\"1107\"}},\"id\":\"1102\",\"subtype\":\"Figure\",\"type\":\"Plot\"},{\"attributes\":{\"data\":{\"xs\":[[15,15,25,25],[55,55,65,65],[45,45,60,60],[35,35,52,52],[85,85,95,95],[125,125,135,135],[155,155,165,165],[145,145,160,160],[175,175,185,185],[205,205,215,215],[195,195,210,210],[180,180,202,202],[152,152,191,191],[130,130,172,172],[115,115,151,151],[105,105,133,133],[90,90,119,119],[75,75,104,104],[44,44,90,90],[225,225,235,235],[245,245,255,255],[230,230,250,250],[67,67,240,240],[20,20,153,153],[5,5,87,87]],\"ys\":[[0.0,1.0,1.0,0.0],[0.0,1.73,1.73,0.0],[0.0,2.34,2.34,1.73],[0.0,4.93,4.93,2.34],[0.0,2.0,2.0,0.0],[0.0,0.0,0.0,0.0],[0.0,0.0,0.0,0.0],[0.0,0.0,0.0,0.0],[0.0,0.0,0.0,0.0],[0.0,0.0,0.0,0.0],[0.0,0.0,0.0,0.0],[0.0,1.0,1.0,0.0],[0.0,1.6,1.6,1.0],[0.0,2.26,2.26,1.6],[0.0,3.26,3.26,2.26],[0.0,3.73,3.73,3.26],[2.0,4.55,4.55,3.73],[0.0,6.69,6.69,4.55],[4.93,7.57,7.57,6.69],[0.0,4.9,4.9,0.0],[0.0,5.2,5.2,0.0],[4.9,8.18,8.18,5.2],[7.57,9.5,9.5,8.18],[1.0,9.72,9.72,9.5],[0.0,11.83,11.83,9.72]]},\"selected\":{\"id\":\"1195\"},\"selection_policy\":{\"id\":\"1194\"}},\"id\":\"1148\",\"type\":\"ColumnDataSource\"},{\"attributes\":{\"formatter\":{\"id\":\"1185\"},\"major_label_orientation\":1.0471975511965976,\"major_label_overrides\":{\"105\":\"bp\",\"115\":\"age\",\"125\":\"pcc\",\"135\":\"ba\",\"145\":\"cad\",\"15\":\"sod\",\"155\":\"htn\",\"165\":\"dm\",\"175\":\"id\",\"185\":\"classification\",\"195\":\"ane\",\"205\":\"appet\",\"215\":\"pe\",\"225\":\"hemo\",\"235\":\"pcv\",\"245\":\"wc\",\"25\":\"pot\",\"255\":\"rc\",\"35\":\"pc\",\"45\":\"sg\",\"5\":\"rbc\",\"55\":\"al\",\"65\":\"su\",\"75\":\"bgr\",\"85\":\"bu\",\"95\":\"sc\"},\"ticker\":{\"id\":\"1161\"}},\"id\":\"1139\",\"type\":\"LinearAxis\"},{\"attributes\":{\"code\":\"\\n                if (tick.length &gt; 15) return tick.substring(0, 13) + '...';\\n                else return tick;\\n            \"},\"id\":\"1126\",\"type\":\"FuncTickFormatter\"},{\"attributes\":{\"fill_alpha\":{\"value\":0.1},\"fill_color\":{\"field\":\"correlation\",\"transform\":{\"id\":\"1094\"}},\"height\":{\"units\":\"data\",\"value\":1},\"line_alpha\":{\"value\":0.1},\"line_color\":{\"value\":null},\"width\":{\"units\":\"data\",\"value\":1},\"x\":{\"field\":\"x\"},\"y\":{\"field\":\"y\"}},\"id\":\"1121\",\"type\":\"Rect\"},{\"attributes\":{\"axis\":{\"id\":\"1013\"},\"dimension\":1,\"ticker\":null},\"id\":\"1016\",\"type\":\"Grid\"},{\"attributes\":{\"axis\":{\"id\":\"1079\"},\"dimension\":1,\"grid_line_color\":null,\"ticker\":null},\"id\":\"1082\",\"type\":\"Grid\"},{\"attributes\":{\"children\":[{\"id\":\"1001\"}]},\"id\":\"1059\",\"type\":\"Row\"},{\"attributes\":{\"formatter\":{\"id\":\"1178\"},\"major_label_standoff\":0,\"major_label_text_font_size\":\"9pt\",\"major_tick_line_color\":null,\"ticker\":{\"id\":\"1080\"}},\"id\":\"1079\",\"type\":\"LinearAxis\"},{\"attributes\":{\"children\":[{\"id\":\"1102\"}]},\"id\":\"1128\",\"type\":\"Row\"},{\"attributes\":{\"axis\":{\"id\":\"1143\"},\"dimension\":1,\"ticker\":null,\"visible\":false},\"id\":\"1146\",\"type\":\"Grid\"},{\"attributes\":{},\"id\":\"1110\",\"type\":\"CategoricalTicker\"},{\"attributes\":{\"data\":{\"Missing\":[9,46,1,1,4,44,12,19,2,0,2,52,2,0,65,4,70,1,88,152,130,17,47,87,49,105],\"Present\":[391,354,399,399,396,356,388,381,398,400,398,348,398,400,335,396,330,399,312,248,270,383,353,313,351,295],\"index\":[\"age\",\"al\",\"ane\",\"appet\",\"ba\",\"bgr\",\"bp\",\"bu\",\"cad\",\"classification\",\"dm\",\"hemo\",\"htn\",\"id\",\"pc\",\"pcc\",\"pcv\",\"pe\",\"pot\",\"rbc\",\"rc\",\"sc\",\"sg\",\"sod\",\"su\",\"wc\"]},\"selected\":{\"id\":\"1199\"},\"selection_policy\":{\"id\":\"1198\"}},\"id\":\"1051\",\"type\":\"ColumnDataSource\"},{\"attributes\":{},\"id\":\"1199\",\"type\":\"Selection\"},{\"attributes\":{},\"id\":\"1080\",\"type\":\"BasicTicker\"},{\"attributes\":{\"text\":\"\"},\"id\":\"1028\",\"type\":\"Title\"},{\"attributes\":{},\"id\":\"1031\",\"type\":\"BasicTickFormatter\"},{\"attributes\":{},\"id\":\"1180\",\"type\":\"CategoricalTickFormatter\"},{\"attributes\":{\"axis\":{\"id\":\"1010\"},\"ticker\":null},\"id\":\"1012\",\"type\":\"Grid\"},{\"attributes\":{},\"id\":\"1197\",\"type\":\"Selection\"},{\"attributes\":{\"high\":1,\"low\":0,\"palette\":[\"#ffffff\",\"#fefefe\",\"#fdfdfd\",\"#fcfcfc\",\"#fbfbfb\",\"#fafafa\",\"#f9f9f9\",\"#f8f8f8\",\"#f7f7f7\",\"#f6f6f6\",\"#f5f5f5\",\"#f4f4f4\",\"#f3f3f3\",\"#f2f2f2\",\"#f1f1f1\",\"#f0f0f0\",\"#efefef\",\"#eeeeee\",\"#ededed\",\"#ececec\",\"#ebebeb\",\"#eaeaea\",\"#e9e9e9\",\"#e8e8e8\",\"#e7e7e7\",\"#e6e6e6\",\"#e5e5e5\",\"#e4e4e4\",\"#e3e3e3\",\"#e2e2e2\",\"#e1e1e1\",\"#e0e0e0\",\"#dfdfdf\",\"#dedede\",\"#dddddd\",\"#dcdcdc\",\"#dbdbdb\",\"#dadada\",\"#d9d9d9\",\"#d8d8d8\",\"#d7d7d7\",\"#d6d6d6\",\"#d5d5d5\",\"#d4d4d4\",\"#d3d3d3\",\"#d2d2d2\",\"#d1d1d1\",\"#d0d0d0\",\"#cfcfcf\",\"#cecece\",\"#cdcdcd\",\"#cccccc\",\"#cbcbcb\",\"#cacaca\",\"#c9c9c9\",\"#c8c8c8\",\"#c7c7c7\",\"#c6c6c6\",\"#c5c5c5\",\"#c4c4c4\",\"#c3c3c3\",\"#c2c2c2\",\"#c1c1c1\",\"#c0c0c0\",\"#bfbfbf\",\"#bebebe\",\"#bdbdbd\",\"#bcbcbc\",\"#bbbbbb\",\"#bababa\",\"#b9b9b9\",\"#b8b8b8\",\"#b7b7b7\",\"#b6b6b6\",\"#b5b5b5\",\"#b4b4b4\",\"#b3b3b3\",\"#b2b2b2\",\"#b1b1b1\",\"#b0b0b0\",\"#afafaf\",\"#aeaeae\",\"#adadad\",\"#acacac\",\"#ababab\",\"#aaaaaa\",\"#a9a9a9\",\"#a8a8a8\",\"#a7a7a7\",\"#a6a6a6\",\"#a5a5a5\",\"#a4a4a4\",\"#a3a3a3\",\"#a2a2a2\",\"#a1a1a1\",\"#a0a0a0\",\"#9f9f9f\",\"#9e9e9e\",\"#9d9d9d\",\"#9c9c9c\",\"#9b9b9b\",\"#9a9a9a\",\"#999999\",\"#989898\",\"#979797\",\"#969696\",\"#959595\",\"#949494\",\"#939393\",\"#929292\",\"#919191\",\"#909090\",\"#8f8f8f\",\"#8e8e8e\",\"#8d8d8d\",\"#8c8c8c\",\"#8b8b8b\",\"#8a8a8a\",\"#898989\",\"#888888\",\"#878787\",\"#868686\",\"#858585\",\"#848484\",\"#838383\",\"#828282\",\"#818181\",\"#808080\",\"#7f7f7f\",\"#7e7e7e\",\"#7d7d7d\",\"#7c7c7c\",\"#7b7b7b\",\"#7a7a7a\",\"#797979\",\"#787878\",\"#777777\",\"#767676\",\"#757575\",\"#747474\",\"#737373\",\"#727272\",\"#717171\",\"#707070\",\"#6f6f6f\",\"#6e6e6e\",\"#6d6d6d\",\"#6c6c6c\",\"#6b6b6b\",\"#6a6a6a\",\"#696969\",\"#686868\",\"#676767\",\"#666666\",\"#656565\",\"#646464\",\"#636363\",\"#626262\",\"#616161\",\"#606060\",\"#5f5f5f\",\"#5e5e5e\",\"#5d5d5d\",\"#5c5c5c\",\"#5b5b5b\",\"#5a5a5a\",\"#595959\",\"#585858\",\"#575757\",\"#565656\",\"#555555\",\"#545454\",\"#535353\",\"#525252\",\"#515151\",\"#505050\",\"#4f4f4f\",\"#4e4e4e\",\"#4d4d4d\",\"#4c4c4c\",\"#4b4b4b\",\"#4a4a4a\",\"#494949\",\"#484848\",\"#474747\",\"#464646\",\"#454545\",\"#444444\",\"#434343\",\"#424242\",\"#414141\",\"#404040\",\"#3f3f3f\",\"#3e3e3e\",\"#3d3d3d\",\"#3c3c3c\",\"#3b3b3b\",\"#3a3a3a\",\"#393939\",\"#383838\",\"#373737\",\"#363636\",\"#353535\",\"#343434\",\"#333333\",\"#323232\",\"#313131\",\"#303030\",\"#2f2f2f\",\"#2e2e2e\",\"#2d2d2d\",\"#2c2c2c\",\"#2b2b2b\",\"#2a2a2a\",\"#292929\",\"#282828\",\"#272727\",\"#262626\",\"#252525\",\"#242424\",\"#232323\",\"#222222\",\"#212121\",\"#202020\",\"#1f1f1f\",\"#1e1e1e\",\"#1d1d1d\",\"#1c1c1c\",\"#1b1b1b\",\"#1a1a1a\",\"#191919\",\"#181818\",\"#171717\",\"#161616\",\"#151515\",\"#141414\",\"#131313\",\"#121212\",\"#111111\",\"#101010\",\"#0f0f0f\",\"#0e0e0e\",\"#0d0d0d\",\"#0c0c0c\",\"#0b0b0b\",\"#0a0a0a\",\"#090909\",\"#080808\",\"#070707\",\"#060606\",\"#050505\",\"#040404\",\"#030303\",\"#020202\",\"#010101\",\"#000000\"]},\"id\":\"1061\",\"type\":\"LinearColorMapper\"},{\"attributes\":{\"callback\":null,\"tooltips\":[[\"Column\",\"@column\"],[\"Loc\",\"@loc_start{1}~@loc_end{1}\"],[\"Missing%\",\"@missing_rate{1%}\"]]},\"id\":\"1083\",\"type\":\"HoverTool\"},{\"attributes\":{\"source\":{\"id\":\"1118\"}},\"id\":\"1123\",\"type\":\"CDSView\"},{\"attributes\":{\"code\":\"\\n                if (tick.length &gt; 15) return tick.substring(0, 13) + '...';\\n                else return tick;\\n            \"},\"id\":\"1124\",\"type\":\"FuncTickFormatter\"},{\"attributes\":{\"children\":[{\"id\":\"1130\"}]},\"id\":\"1163\",\"type\":\"Row\"},{\"attributes\":{\"data\":{\"Missing\":[9,46,1,1,4,44,12,19,2,0,2,52,2,0,65,4,70,1,88,152,130,17,47,87,49,105],\"Present\":[391,354,399,399,396,356,388,381,398,400,398,348,398,400,335,396,330,399,312,248,270,383,353,313,351,295],\"index\":[\"age\",\"al\",\"ane\",\"appet\",\"ba\",\"bgr\",\"bp\",\"bu\",\"cad\",\"classification\",\"dm\",\"hemo\",\"htn\",\"id\",\"pc\",\"pcc\",\"pcv\",\"pe\",\"pot\",\"rbc\",\"rc\",\"sc\",\"sg\",\"sod\",\"su\",\"wc\"]},\"selected\":{\"id\":\"1049\"},\"selection_policy\":{\"id\":\"1048\"}},\"id\":\"1022\",\"type\":\"ColumnDataSource\"},{\"attributes\":{\"callback\":null,\"formatters\":{\"@{Missing}\":{\"id\":\"1052\"}},\"renderers\":[{\"id\":\"1040\"}],\"tooltips\":[[\"Column\",\"@index\"],[\"Missing count\",\"@$name\"],[\"Missing percent\",\"@{Missing}{custom}\"]]},\"id\":\"1055\",\"type\":\"HoverTool\"},{\"attributes\":{\"format\":\"0 %\"},\"id\":\"1063\",\"type\":\"NumeralTickFormatter\"},{\"attributes\":{},\"id\":\"1135\",\"type\":\"LinearScale\"},{\"attributes\":{},\"id\":\"1189\",\"type\":\"Selection\"},{\"attributes\":{\"factors\":[\"id\",\"age (2.2%)\",\"bp (3.0%)\",\"sg (11.8%)\",\"al (11.5%)\",\"su (12.2%)\",\"rbc (38.0%)\",\"pc (16.2%)\",\"pcc (1.0%)\",\"ba (1.0%)\",\"bgr (11.0%)\",\"bu (4.8%)\",\"sc (4.2%)\",\"sod (21.8%)\",\"pot (22.0%)\",\"hemo (13.0%)\",\"pcv (17.5%)\",\"wc (26.2%)\",\"rc (32.5%)\",\"htn (0.5%)\",\"dm (0.5%)\",\"cad (0.5%)\",\"appet (0.2%)\",\"pe (0.2%)\",\"ane (0.2%)\",\"classificati...\"]},\"id\":\"1067\",\"type\":\"FactorRange\"},{\"attributes\":{\"axis\":{\"id\":\"1139\"},\"ticker\":null,\"visible\":false},\"id\":\"1142\",\"type\":\"Grid\"},{\"attributes\":{\"factors\":[\"ane\",\"pe\",\"appet\",\"cad\",\"dm\",\"htn\",\"rc\",\"wc\",\"pcv\",\"hemo\",\"pot\",\"sod\",\"sc\",\"bu\",\"bgr\",\"ba\",\"pcc\",\"pc\",\"rbc\",\"su\",\"al\",\"sg\",\"bp\",\"age\"]},\"id\":\"1101\",\"type\":\"FactorRange\"},{\"attributes\":{\"fields\":[\"Present\",\"Missing\"]},\"id\":\"1021\",\"type\":\"Stack\"},{\"attributes\":{},\"id\":\"1198\",\"type\":\"UnionRenderers\"},{\"attributes\":{\"axis_label\":\"Average Distance Between Clusters\",\"formatter\":{\"id\":\"1184\"},\"ticker\":{\"id\":\"1144\"}},\"id\":\"1143\",\"type\":\"LinearAxis\"},{\"attributes\":{},\"id\":\"1014\",\"type\":\"BasicTicker\"},{\"attributes\":{\"high\":1,\"low\":-1,\"palette\":[\"#053061\",\"#063263\",\"#073466\",\"#083669\",\"#09386c\",\"#0a3a6f\",\"#0b3c72\",\"#0c3e75\",\"#0d4078\",\"#0e437b\",\"#0f457e\",\"#114781\",\"#124984\",\"#134b87\",\"#144d8a\",\"#154f8d\",\"#165190\",\"#175493\",\"#185695\",\"#195898\",\"#1a5a9b\",\"#1c5c9e\",\"#1d5ea1\",\"#1e60a4\",\"#1f62a7\",\"#2064aa\",\"#2166ac\",\"#2368ad\",\"#246aae\",\"#256caf\",\"#276db0\",\"#286fb0\",\"#2971b1\",\"#2b73b2\",\"#2c75b3\",\"#2d76b4\",\"#2f78b5\",\"#307ab6\",\"#317cb7\",\"#337db8\",\"#347fb9\",\"#3581b9\",\"#3783ba\",\"#3884bb\",\"#3986bc\",\"#3b88bd\",\"#3c8abe\",\"#3d8bbf\",\"#3f8dc0\",\"#408fc1\",\"#4191c2\",\"#4393c3\",\"#4694c4\",\"#4996c5\",\"#4c98c6\",\"#4f9ac7\",\"#529cc8\",\"#559ec9\",\"#58a0ca\",\"#5ba2cb\",\"#5ea4cc\",\"#61a6cd\",\"#65a8ce\",\"#68aacf\",\"#6bacd0\",\"#6eaed1\",\"#71b0d2\",\"#74b2d3\",\"#77b4d5\",\"#7ab6d6\",\"#7db8d7\",\"#80bad8\",\"#84bcd9\",\"#87beda\",\"#8ac0db\",\"#8dc2dc\",\"#90c4dd\",\"#93c5de\",\"#95c6df\",\"#98c8df\",\"#9ac9e0\",\"#9dcae1\",\"#9fcbe1\",\"#a2cde2\",\"#a4cee3\",\"#a7cfe4\",\"#a9d0e4\",\"#abd2e5\",\"#aed3e6\",\"#b0d4e6\",\"#b3d5e7\",\"#b5d7e8\",\"#b8d8e8\",\"#bad9e9\",\"#bddaea\",\"#bfdceb\",\"#c2ddeb\",\"#c4deec\",\"#c7dfed\",\"#c9e1ed\",\"#cce2ee\",\"#cee3ef\",\"#d1e5f0\",\"#d2e5f0\",\"#d3e6f0\",\"#d5e7f0\",\"#d6e7f1\",\"#d8e8f1\",\"#d9e9f1\",\"#dbe9f1\",\"#dceaf2\",\"#deebf2\",\"#dfecf2\",\"#e1ecf3\",\"#e2edf3\",\"#e4eef3\",\"#e5eef3\",\"#e7eff4\",\"#e8f0f4\",\"#eaf1f4\",\"#ebf1f4\",\"#edf2f5\",\"#eef3f5\",\"#f0f3f5\",\"#f1f4f6\",\"#f3f5f6\",\"#f4f5f6\",\"#f6f6f6\",\"#f7f6f6\",\"#f7f5f4\",\"#f7f4f2\",\"#f7f3f0\",\"#f8f2ee\",\"#f8f0ec\",\"#f8efea\",\"#f8eee8\",\"#f9ede7\",\"#f9ece5\",\"#f9ebe3\",\"#f9eae1\",\"#f9e9df\",\"#fae8dd\",\"#fae7db\",\"#fae5d9\",\"#fae4d7\",\"#fbe3d6\",\"#fbe2d4\",\"#fbe1d2\",\"#fbe0d0\",\"#fcdfce\",\"#fcdecc\",\"#fcddca\",\"#fcdcc8\",\"#fddbc7\",\"#fcd8c4\",\"#fcd6c1\",\"#fbd4be\",\"#fbd2bc\",\"#fbd0b9\",\"#faceb6\",\"#faccb4\",\"#facab1\",\"#f9c7ae\",\"#f9c5ab\",\"#f9c3a9\",\"#f8c1a6\",\"#f8bfa3\",\"#f8bda1\",\"#f7bb9e\",\"#f7b99b\",\"#f7b698\",\"#f6b496\",\"#f6b293\",\"#f5b090\",\"#f5ae8e\",\"#f5ac8b\",\"#f4aa88\",\"#f4a886\",\"#f4a683\",\"#f3a380\",\"#f2a07e\",\"#f19e7c\",\"#ef9b7a\",\"#ee9878\",\"#ed9676\",\"#ec9374\",\"#eb9072\",\"#ea8d70\",\"#e88b6e\",\"#e7886c\",\"#e6856a\",\"#e58368\",\"#e48065\",\"#e27d63\",\"#e17b61\",\"#e0785f\",\"#df755d\",\"#de725b\",\"#dd7059\",\"#db6d57\",\"#da6a55\",\"#d96853\",\"#d86551\",\"#d7624f\",\"#d6604d\",\"#d45d4b\",\"#d35a4a\",\"#d15749\",\"#d05447\",\"#ce5146\",\"#cd4f44\",\"#cc4c43\",\"#ca4942\",\"#c94641\",\"#c7433f\",\"#c6403e\",\"#c53e3c\",\"#c33b3b\",\"#c2383a\",\"#c03538\",\"#bf3237\",\"#be3036\",\"#bc2d34\",\"#bb2a33\",\"#b92732\",\"#b82431\",\"#b6212f\",\"#b51f2e\",\"#b41c2d\",\"#b2192b\",\"#b0172a\",\"#ad162a\",\"#aa1529\",\"#a71429\",\"#a41328\",\"#a11228\",\"#9e1127\",\"#9b1027\",\"#991027\",\"#960f26\",\"#930e26\",\"#900d25\",\"#8d0c25\",\"#8a0b24\",\"#870a24\",\"#840923\",\"#810823\",\"#7e0722\",\"#7b0622\",\"#780521\",\"#750421\",\"#720320\",\"#6f0220\",\"#6c011f\",\"#69001f\",\"#67001f\"]},\"id\":\"1094\",\"type\":\"LinearColorMapper\"},{\"attributes\":{},\"id\":\"1131\",\"type\":\"DataRange1d\"},{\"attributes\":{\"below\":[{\"id\":\"1010\"}],\"center\":[{\"id\":\"1012\"},{\"id\":\"1016\"}],\"left\":[{\"id\":\"1013\"}],\"plot_height\":500,\"plot_width\":728,\"renderers\":[{\"id\":\"1026\"},{\"id\":\"1040\"}],\"right\":[{\"id\":\"1034\"}],\"title\":{\"id\":\"1028\"},\"toolbar\":{\"id\":\"1017\"},\"toolbar_location\":null,\"x_range\":{\"id\":\"1002\"},\"x_scale\":{\"id\":\"1006\"},\"y_range\":{\"id\":\"1004\"},\"y_scale\":{\"id\":\"1008\"}},\"id\":\"1001\",\"subtype\":\"Figure\",\"type\":\"Plot\"},{\"attributes\":{\"child\":{\"id\":\"1092\"},\"title\":\"Spectrum\"},\"id\":\"1093\",\"type\":\"Panel\"},{\"attributes\":{},\"id\":\"1133\",\"type\":\"DataRange1d\"},{\"attributes\":{\"active_drag\":\"auto\",\"active_inspect\":\"auto\",\"active_multi\":null,\"active_scroll\":\"auto\",\"active_tap\":\"auto\",\"tools\":[{\"id\":\"1083\"}]},\"id\":\"1084\",\"type\":\"Toolbar\"},{\"attributes\":{},\"id\":\"1144\",\"type\":\"BasicTicker\"},{\"attributes\":{\"format\":\"%.2f\"},\"id\":\"1096\",\"type\":\"PrintfTickFormatter\"},{\"attributes\":{},\"id\":\"1049\",\"type\":\"Selection\"},{\"attributes\":{\"active_drag\":\"auto\",\"active_inspect\":\"auto\",\"active_multi\":null,\"active_scroll\":\"auto\",\"active_tap\":\"auto\",\"tools\":[{\"id\":\"1159\"}]},\"id\":\"1147\",\"type\":\"Toolbar\"},{\"attributes\":{\"axis\":{\"id\":\"1109\"},\"grid_line_color\":null,\"ticker\":null},\"id\":\"1111\",\"type\":\"Grid\"},{\"attributes\":{\"active_drag\":\"auto\",\"active_inspect\":\"auto\",\"active_multi\":null,\"active_scroll\":\"auto\",\"active_tap\":\"auto\",\"tools\":[{\"id\":\"1053\"},{\"id\":\"1055\"}]},\"id\":\"1017\",\"type\":\"Toolbar\"},{\"attributes\":{\"color_mapper\":{\"id\":\"1061\"},\"formatter\":{\"id\":\"1063\"},\"label_standoff\":10,\"location\":[0,0],\"major_label_text_font_size\":\"8pt\",\"ticker\":{\"id\":\"1062\"}},\"id\":\"1064\",\"type\":\"ColorBar\"},{\"attributes\":{\"child\":{\"id\":\"1059\"},\"title\":\"Bar Chart\"},\"id\":\"1060\",\"type\":\"Panel\"},{\"attributes\":{\"line_color\":{\"value\":\"#8073ac\"},\"xs\":{\"field\":\"xs\"},\"ys\":{\"field\":\"ys\"}},\"id\":\"1149\",\"type\":\"MultiLine\"},{\"attributes\":{\"axis_line_color\":null,\"formatter\":{\"id\":\"1126\"},\"major_label_standoff\":0,\"major_label_text_font_size\":\"9pt\",\"major_tick_line_color\":null,\"ticker\":{\"id\":\"1113\"}},\"id\":\"1112\",\"type\":\"CategoricalAxis\"},{\"attributes\":{\"fields\":[\"Present\"]},\"id\":\"1019\",\"type\":\"Stack\"},{\"attributes\":{\"fields\":[\"Present\"]},\"id\":\"1020\",\"type\":\"Stack\"}],\"root_ids\":[\"1165\"]},\"title\":\"Bokeh Application\",\"version\":\"2.0.2\"}}\n",
       "        </script>\n",
       "        <script type=\"text/javascript\">\n",
       "          (function() {\n",
       "            var fn = function() {\n",
       "              var __dataprep_bokeh_fix = (f) => document.Bokeh === undefined ? setTimeout(f, 1000) : f(); __dataprep_bokeh_fix(function() {\n",
       "                (function(root) {\n",
       "                  function embed_document(root) {\n",
       "                    \n",
       "                  var docs_json = document.getElementById('1574').textContent;\n",
       "                  var render_items = [{\"docid\":\"5f7bd63e-80ec-4f52-9a23-212386a16e22\",\"root_ids\":[\"1165\"],\"roots\":{\"1165\":\"b5a40c95-6cef-40b4-b234-3ef0c33a3091\"}}];\n",
       "                  root.Bokeh.embed.embed_items(docs_json, render_items);\n",
       "                \n",
       "                  }\n",
       "                  if (root.Bokeh !== undefined) {\n",
       "                    embed_document(root);\n",
       "                  } else {\n",
       "                    var attempts = 0;\n",
       "                    var timer = setInterval(function(root) {\n",
       "                      if (root.Bokeh !== undefined) {\n",
       "                        clearInterval(timer);\n",
       "                        embed_document(root);\n",
       "                      } else {\n",
       "                        attempts++;\n",
       "                        if (attempts > 100) {\n",
       "                          clearInterval(timer);\n",
       "                          console.log(\"Bokeh: ERROR: Unable to run BokehJS code because BokehJS library is missing\");\n",
       "                        }\n",
       "                      }\n",
       "                    }, 10, root)\n",
       "                  }\n",
       "                })(window);\n",
       "              });\n",
       "            };\n",
       "            if (document.readyState != \"loading\") fn();\n",
       "            else document.addEventListener(\"DOMContentLoaded\", fn);\n",
       "          })();\n",
       "        </script>\n"
      ],
      "text/plain": [
       "<dataprep.eda.report.Report at 0x20ffbd6ef40>"
      ]
     },
     "execution_count": 14,
     "metadata": {},
     "output_type": "execute_result"
    }
   ],
   "source": [
    "plot_missing(kidney)"
   ]
  },
  {
   "cell_type": "markdown",
   "metadata": {
    "ExecuteTime": {
     "end_time": "2019-05-27T01:16:54.288954Z",
     "start_time": "2019-05-27T01:16:54.283943Z"
    },
    "colab_type": "text",
    "id": "ysAGOB_cZBi4"
   },
   "source": [
    "#### Impute Null Values\n",
    "\n",
    "Impute null values for numeric and object columns."
   ]
  },
  {
   "cell_type": "markdown",
   "metadata": {
    "colab_type": "text",
    "id": "2t_0S5u8ZBi6"
   },
   "source": [
    "#### 3. Label Encoder\n",
    "\n",
    "Encode labels with value between 0 and n_classes-1.\n",
    "\n",
    "> from sklearn.preprocessing import LabelEncoder"
   ]
  },
  {
   "cell_type": "code",
   "execution_count": 0,
   "metadata": {
    "ExecuteTime": {
     "end_time": "2019-05-27T07:41:30.821964Z",
     "start_time": "2019-05-27T07:41:30.817976Z"
    },
    "colab": {},
    "colab_type": "code",
    "id": "o2LDxMC1ZBi6"
   },
   "outputs": [],
   "source": [
    "# ANSWER"
   ]
  },
  {
   "cell_type": "markdown",
   "metadata": {
    "ExecuteTime": {
     "end_time": "2019-05-27T02:01:36.412363Z",
     "start_time": "2019-05-27T02:01:36.408368Z"
    },
    "colab_type": "text",
    "id": "0r59fpVAZBi9"
   },
   "source": [
    "#### 4. OneHotEncoder \n",
    "\n",
    "Encode categorical integer features as a one-hot numeric array.\n",
    "\n",
    "The input to this transformer should be an array-like of integers or strings, denoting the values taken on by categorical (discrete) features. The features are encoded using a one-hot (aka ‘one-of-K’ or ‘dummy’) encoding scheme. This creates a binary column for each category and returns a sparse matrix or dense array.\n",
    "\n",
    "By default, the encoder derives the categories based on the unique values in each feature. Alternatively, you can also specify the categories manually. The OneHotEncoder previously assumed that the input features take on values in the range [0, max(values)). This behaviour is deprecated.\n",
    "\n",
    "This encoding is needed for feeding categorical data to many scikit-learn estimators, notably linear models and SVMs with the standard kernels.\n",
    "\n",
    "> from sklearn.preprocessing import OneHotEncoder"
   ]
  },
  {
   "cell_type": "code",
   "execution_count": 0,
   "metadata": {
    "ExecuteTime": {
     "end_time": "2019-05-27T07:42:13.217369Z",
     "start_time": "2019-05-27T07:42:13.213356Z"
    },
    "colab": {},
    "colab_type": "code",
    "id": "fcOMDwFAZBi-"
   },
   "outputs": [],
   "source": [
    "# ANSWER"
   ]
  },
  {
   "cell_type": "markdown",
   "metadata": {
    "colab_type": "text",
    "id": "YM5nkSquZBjA"
   },
   "source": [
    "#### 5. Dummy Variables\n",
    "\n",
    "Convert categorical variable into dummy/indicator variables"
   ]
  },
  {
   "cell_type": "code",
   "execution_count": 0,
   "metadata": {
    "ExecuteTime": {
     "end_time": "2019-05-27T07:42:33.522386Z",
     "start_time": "2019-05-27T07:42:33.518397Z"
    },
    "colab": {},
    "colab_type": "code",
    "id": "Q-znAG71ZBjB"
   },
   "outputs": [],
   "source": [
    "# ANSWER"
   ]
  },
  {
   "cell_type": "markdown",
   "metadata": {
    "colab_type": "text",
    "id": "1IrBuSXDZBjE"
   },
   "source": [
    "####  6. Set Target \n",
    "\n",
    "Set `classification` as target."
   ]
  },
  {
   "cell_type": "code",
   "execution_count": 22,
   "metadata": {},
   "outputs": [
    {
     "ename": "ValueError",
     "evalue": "Item wrong length 26 instead of 400.",
     "output_type": "error",
     "traceback": [
      "\u001b[1;31m---------------------------------------------------------------------------\u001b[0m",
      "\u001b[1;31mValueError\u001b[0m                                Traceback (most recent call last)",
      "\u001b[1;32m<ipython-input-22-39980fd1f158>\u001b[0m in \u001b[0;36m<module>\u001b[1;34m\u001b[0m\n\u001b[1;32m----> 1\u001b[1;33m \u001b[0mkidney\u001b[0m\u001b[1;33m[\u001b[0m\u001b[0mkidney\u001b[0m\u001b[1;33m.\u001b[0m\u001b[0mcolumns\u001b[0m \u001b[1;33m!=\u001b[0m \u001b[1;34m'O'\u001b[0m\u001b[1;33m]\u001b[0m\u001b[1;33m\u001b[0m\u001b[1;33m\u001b[0m\u001b[0m\n\u001b[0m",
      "\u001b[1;32mD:\\Ricky\\envs\\Python 38 and R\\lib\\site-packages\\pandas\\core\\frame.py\u001b[0m in \u001b[0;36m__getitem__\u001b[1;34m(self, key)\u001b[0m\n\u001b[0;32m   2789\u001b[0m         \u001b[1;31m# Do we have a (boolean) 1d indexer?\u001b[0m\u001b[1;33m\u001b[0m\u001b[1;33m\u001b[0m\u001b[1;33m\u001b[0m\u001b[0m\n\u001b[0;32m   2790\u001b[0m         \u001b[1;32mif\u001b[0m \u001b[0mcom\u001b[0m\u001b[1;33m.\u001b[0m\u001b[0mis_bool_indexer\u001b[0m\u001b[1;33m(\u001b[0m\u001b[0mkey\u001b[0m\u001b[1;33m)\u001b[0m\u001b[1;33m:\u001b[0m\u001b[1;33m\u001b[0m\u001b[1;33m\u001b[0m\u001b[0m\n\u001b[1;32m-> 2791\u001b[1;33m             \u001b[1;32mreturn\u001b[0m \u001b[0mself\u001b[0m\u001b[1;33m.\u001b[0m\u001b[0m_getitem_bool_array\u001b[0m\u001b[1;33m(\u001b[0m\u001b[0mkey\u001b[0m\u001b[1;33m)\u001b[0m\u001b[1;33m\u001b[0m\u001b[1;33m\u001b[0m\u001b[0m\n\u001b[0m\u001b[0;32m   2792\u001b[0m \u001b[1;33m\u001b[0m\u001b[0m\n\u001b[0;32m   2793\u001b[0m         \u001b[1;31m# We are left with two options: a single key, and a collection of keys,\u001b[0m\u001b[1;33m\u001b[0m\u001b[1;33m\u001b[0m\u001b[1;33m\u001b[0m\u001b[0m\n",
      "\u001b[1;32mD:\\Ricky\\envs\\Python 38 and R\\lib\\site-packages\\pandas\\core\\frame.py\u001b[0m in \u001b[0;36m_getitem_bool_array\u001b[1;34m(self, key)\u001b[0m\n\u001b[0;32m   2835\u001b[0m             )\n\u001b[0;32m   2836\u001b[0m         \u001b[1;32melif\u001b[0m \u001b[0mlen\u001b[0m\u001b[1;33m(\u001b[0m\u001b[0mkey\u001b[0m\u001b[1;33m)\u001b[0m \u001b[1;33m!=\u001b[0m \u001b[0mlen\u001b[0m\u001b[1;33m(\u001b[0m\u001b[0mself\u001b[0m\u001b[1;33m.\u001b[0m\u001b[0mindex\u001b[0m\u001b[1;33m)\u001b[0m\u001b[1;33m:\u001b[0m\u001b[1;33m\u001b[0m\u001b[1;33m\u001b[0m\u001b[0m\n\u001b[1;32m-> 2837\u001b[1;33m             raise ValueError(\n\u001b[0m\u001b[0;32m   2838\u001b[0m                 \u001b[1;34mf\"Item wrong length {len(key)} instead of {len(self.index)}.\"\u001b[0m\u001b[1;33m\u001b[0m\u001b[1;33m\u001b[0m\u001b[0m\n\u001b[0;32m   2839\u001b[0m             )\n",
      "\u001b[1;31mValueError\u001b[0m: Item wrong length 26 instead of 400."
     ]
    }
   ],
   "source": [
    "kidney[kidney.columns != 'O']"
   ]
  },
  {
   "cell_type": "code",
   "execution_count": 24,
   "metadata": {},
   "outputs": [
    {
     "ename": "ValueError",
     "evalue": "The truth value of a Series is ambiguous. Use a.empty, a.bool(), a.item(), a.any() or a.all().",
     "output_type": "error",
     "traceback": [
      "\u001b[1;31m---------------------------------------------------------------------------\u001b[0m",
      "\u001b[1;31mValueError\u001b[0m                                Traceback (most recent call last)",
      "\u001b[1;32m<ipython-input-24-ba40bd6fe517>\u001b[0m in \u001b[0;36m<module>\u001b[1;34m\u001b[0m\n\u001b[1;32m----> 1\u001b[1;33m \u001b[0mfeatures\u001b[0m \u001b[1;33m=\u001b[0m \u001b[1;33m[\u001b[0m\u001b[0mc\u001b[0m \u001b[1;32mfor\u001b[0m \u001b[0mc\u001b[0m \u001b[1;32min\u001b[0m \u001b[0mkidney\u001b[0m\u001b[1;33m.\u001b[0m\u001b[0mcolumns\u001b[0m \u001b[1;32mif\u001b[0m \u001b[0mkidney\u001b[0m\u001b[1;33m[\u001b[0m\u001b[0mc\u001b[0m\u001b[1;33m]\u001b[0m \u001b[1;33m!=\u001b[0m \u001b[0mobject\u001b[0m\u001b[1;33m]\u001b[0m\u001b[1;33m\u001b[0m\u001b[1;33m\u001b[0m\u001b[0m\n\u001b[0m\u001b[0;32m      2\u001b[0m \u001b[0mtarget\u001b[0m \u001b[1;33m=\u001b[0m \u001b[1;34m'classification'\u001b[0m\u001b[1;33m\u001b[0m\u001b[1;33m\u001b[0m\u001b[0m\n\u001b[0;32m      3\u001b[0m \u001b[0mX\u001b[0m \u001b[1;33m=\u001b[0m \u001b[0mkidney\u001b[0m\u001b[1;33m[\u001b[0m\u001b[0mfeatures\u001b[0m\u001b[1;33m]\u001b[0m\u001b[1;33m\u001b[0m\u001b[1;33m\u001b[0m\u001b[0m\n\u001b[0;32m      4\u001b[0m \u001b[0my\u001b[0m \u001b[1;33m=\u001b[0m \u001b[0mkidney\u001b[0m\u001b[1;33m[\u001b[0m\u001b[0mtarget\u001b[0m\u001b[1;33m]\u001b[0m\u001b[1;33m\u001b[0m\u001b[1;33m\u001b[0m\u001b[0m\n",
      "\u001b[1;32m<ipython-input-24-ba40bd6fe517>\u001b[0m in \u001b[0;36m<listcomp>\u001b[1;34m(.0)\u001b[0m\n\u001b[1;32m----> 1\u001b[1;33m \u001b[0mfeatures\u001b[0m \u001b[1;33m=\u001b[0m \u001b[1;33m[\u001b[0m\u001b[0mc\u001b[0m \u001b[1;32mfor\u001b[0m \u001b[0mc\u001b[0m \u001b[1;32min\u001b[0m \u001b[0mkidney\u001b[0m\u001b[1;33m.\u001b[0m\u001b[0mcolumns\u001b[0m \u001b[1;32mif\u001b[0m \u001b[0mkidney\u001b[0m\u001b[1;33m[\u001b[0m\u001b[0mc\u001b[0m\u001b[1;33m]\u001b[0m \u001b[1;33m!=\u001b[0m \u001b[0mobject\u001b[0m\u001b[1;33m]\u001b[0m\u001b[1;33m\u001b[0m\u001b[1;33m\u001b[0m\u001b[0m\n\u001b[0m\u001b[0;32m      2\u001b[0m \u001b[0mtarget\u001b[0m \u001b[1;33m=\u001b[0m \u001b[1;34m'classification'\u001b[0m\u001b[1;33m\u001b[0m\u001b[1;33m\u001b[0m\u001b[0m\n\u001b[0;32m      3\u001b[0m \u001b[0mX\u001b[0m \u001b[1;33m=\u001b[0m \u001b[0mkidney\u001b[0m\u001b[1;33m[\u001b[0m\u001b[0mfeatures\u001b[0m\u001b[1;33m]\u001b[0m\u001b[1;33m\u001b[0m\u001b[1;33m\u001b[0m\u001b[0m\n\u001b[0;32m      4\u001b[0m \u001b[0my\u001b[0m \u001b[1;33m=\u001b[0m \u001b[0mkidney\u001b[0m\u001b[1;33m[\u001b[0m\u001b[0mtarget\u001b[0m\u001b[1;33m]\u001b[0m\u001b[1;33m\u001b[0m\u001b[1;33m\u001b[0m\u001b[0m\n",
      "\u001b[1;32mD:\\Ricky\\envs\\Python 38 and R\\lib\\site-packages\\pandas\\core\\generic.py\u001b[0m in \u001b[0;36m__nonzero__\u001b[1;34m(self)\u001b[0m\n\u001b[0;32m   1476\u001b[0m \u001b[1;33m\u001b[0m\u001b[0m\n\u001b[0;32m   1477\u001b[0m     \u001b[1;32mdef\u001b[0m \u001b[0m__nonzero__\u001b[0m\u001b[1;33m(\u001b[0m\u001b[0mself\u001b[0m\u001b[1;33m)\u001b[0m\u001b[1;33m:\u001b[0m\u001b[1;33m\u001b[0m\u001b[1;33m\u001b[0m\u001b[0m\n\u001b[1;32m-> 1478\u001b[1;33m         raise ValueError(\n\u001b[0m\u001b[0;32m   1479\u001b[0m             \u001b[1;34mf\"The truth value of a {type(self).__name__} is ambiguous. \"\u001b[0m\u001b[1;33m\u001b[0m\u001b[1;33m\u001b[0m\u001b[0m\n\u001b[0;32m   1480\u001b[0m             \u001b[1;34m\"Use a.empty, a.bool(), a.item(), a.any() or a.all().\"\u001b[0m\u001b[1;33m\u001b[0m\u001b[1;33m\u001b[0m\u001b[0m\n",
      "\u001b[1;31mValueError\u001b[0m: The truth value of a Series is ambiguous. Use a.empty, a.bool(), a.item(), a.any() or a.all()."
     ]
    }
   ],
   "source": [
    "features = [c for c in kidney.columns if kidney[c] != object]\n",
    "target = 'classification'\n",
    "X = kidney[features]\n",
    "y = kidney[target]"
   ]
  },
  {
   "cell_type": "markdown",
   "metadata": {
    "colab_type": "text",
    "id": "USH1cB-8ZBjE"
   },
   "source": [
    "#### 4. Select Feature\n",
    "\n",
    "The classes in the sklearn.feature_selection module can be used for feature selection/dimensionality reduction on sample sets, either to improve estimators’ accuracy scores or to boost their performance on very high-dimensional datasets.\n",
    "\n",
    "##### 4.1 Univariate Selection\n",
    "\n",
    "Univariate feature selection works by selecting the best features based on univariate statistical tests. It can be seen as a preprocessing step to an estimator. Scikit-learn exposes feature selection routines as objects that implement the transform method:\n",
    "\n",
    "- SelectKBest removes all but the  highest scoring features\n",
    "- Use sklearn.feature_selection.chi2 as score function\n",
    "    > Recall that the chi-square test measures dependence between stochastic variables, so using this function “weeds out” the features that are the most likely to be independent of class and therefore irrelevant for classification.\n",
    "\n",
    "\n",
    "More Reads:\n",
    "[Univariate feature selection](https://scikit-learn.org/stable/modules/feature_selection.html)\n",
    "\n",
    "- Create an instance of SelectKBest\n",
    "    - Use sklearn.feature_selection.chi2 as score_func\n",
    "    - Use k of your choice\n",
    "- Fit X, y \n",
    "- Find top 4 features\n",
    "- Transform features to a DataFrame"
   ]
  },
  {
   "cell_type": "code",
   "execution_count": 0,
   "metadata": {
    "ExecuteTime": {
     "end_time": "2019-05-27T07:43:18.924798Z",
     "start_time": "2019-05-27T07:43:18.920809Z"
    },
    "colab": {},
    "colab_type": "code",
    "id": "a_Q5N0oXZBjF"
   },
   "outputs": [],
   "source": [
    "kbest = SelectKBest(score_func=chi2, k =5)\n",
    "k_fit = kbest.fit(X, y)\n",
    "k_score = k_fit.scores_\n",
    "k_score"
   ]
  },
  {
   "cell_type": "markdown",
   "metadata": {
    "colab_type": "text",
    "id": "4nfKmR0fZBjI"
   },
   "source": [
    "##### 4.2 Recursive feature elimination\n",
    "\n",
    "Given an external estimator that assigns weights to features (e.g., the coefficients of a linear model), recursive feature elimination (RFE) is to select features by recursively considering smaller and smaller sets of features. First, the estimator is trained on the initial set of features and the importance of each feature is obtained either through a coef_ attribute or through a feature_importances_ attribute. Then, the least important features are pruned from current set of features.That procedure is recursively repeated on the pruned set until the desired number of features to select is eventually reached.\n",
    "\n",
    "More Reads:\n",
    "[Recursive feature elimination](https://scikit-learn.org/stable/modules/feature_selection.html)\n",
    "\n",
    "- Use RFE to extract feature\n",
    "    - use LogisticRegression as estimator\n",
    "    - Number of n_features_to_select as of your choice\n",
    "- Fit X, y to RFE\n",
    "- Find Selected Features"
   ]
  },
  {
   "cell_type": "code",
   "execution_count": 0,
   "metadata": {
    "ExecuteTime": {
     "end_time": "2019-05-27T07:43:33.184464Z",
     "start_time": "2019-05-27T07:43:33.180498Z"
    },
    "colab": {},
    "colab_type": "code",
    "id": "CooavWYMZBjI"
   },
   "outputs": [],
   "source": [
    "# ANSWER"
   ]
  },
  {
   "cell_type": "markdown",
   "metadata": {
    "colab_type": "text",
    "id": "UXKkl3LqZBjL"
   },
   "source": [
    "#### Create multiple Classifier Model\n",
    "\n",
    "Create multiple classifier models to predict the chronic kidney disease. Use any models of your choice. Evaluate all models and select the best model according to their performance. "
   ]
  },
  {
   "cell_type": "markdown",
   "metadata": {
    "colab_type": "text",
    "id": "5kDuGiLojfFe"
   },
   "source": [
    "\n",
    "\n",
    "---\n",
    "\n",
    "\n",
    "\n",
    "---\n",
    "\n",
    "\n",
    "\n",
    "> > > > > > > > > © 2019 Institute of Data\n",
    "\n",
    "\n",
    "---\n",
    "\n",
    "\n",
    "\n",
    "---\n",
    "\n",
    "\n",
    "\n"
   ]
  }
 ],
 "metadata": {
  "colab": {
   "collapsed_sections": [],
   "name": "DSIA_Lab_6_6.ipynb",
   "provenance": []
  },
  "kernelspec": {
   "display_name": "Python 3",
   "language": "python",
   "name": "python3"
  },
  "language_info": {
   "codemirror_mode": {
    "name": "ipython",
    "version": 3
   },
   "file_extension": ".py",
   "mimetype": "text/x-python",
   "name": "python",
   "nbconvert_exporter": "python",
   "pygments_lexer": "ipython3",
   "version": "3.8.3"
  },
  "varInspector": {
   "cols": {
    "lenName": 16,
    "lenType": 16,
    "lenVar": 40
   },
   "kernels_config": {
    "python": {
     "delete_cmd_postfix": "",
     "delete_cmd_prefix": "del ",
     "library": "var_list.py",
     "varRefreshCmd": "print(var_dic_list())"
    },
    "r": {
     "delete_cmd_postfix": ") ",
     "delete_cmd_prefix": "rm(",
     "library": "var_list.r",
     "varRefreshCmd": "cat(var_dic_list()) "
    }
   },
   "types_to_exclude": [
    "module",
    "function",
    "builtin_function_or_method",
    "instance",
    "_Feature"
   ],
   "window_display": false
  }
 },
 "nbformat": 4,
 "nbformat_minor": 1
}
